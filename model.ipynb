{
 "cells": [
  {
   "cell_type": "markdown",
   "metadata": {},
   "source": [
    "# AI Bias in Healthcare"
   ]
  },
  {
   "cell_type": "markdown",
   "metadata": {},
   "source": [
    "### Virginia Polytechnic Institute and State University"
   ]
  },
  {
   "cell_type": "markdown",
   "metadata": {},
   "source": [
    "#### CS-5024 Ethics and Professionalism"
   ]
  },
  {
   "cell_type": "markdown",
   "metadata": {},
   "source": [
    "#### Authors: \n",
    " Diego Espinoza, Rithvik Gottimukkala, Rameshkumar Govindaraju, and Jonathan Mahoney"
   ]
  },
  {
   "cell_type": "markdown",
   "metadata": {},
   "source": [
    "## Reseach"
   ]
  },
  {
   "cell_type": "markdown",
   "metadata": {},
   "source": [
    "### Set up"
   ]
  },
  {
   "cell_type": "markdown",
   "metadata": {},
   "source": [
    "Installing needed python packages"
   ]
  },
  {
   "cell_type": "code",
   "execution_count": 1,
   "metadata": {},
   "outputs": [
    {
     "name": "stdout",
     "output_type": "stream",
     "text": [
      "Collecting matplotlib\n",
      "  Downloading matplotlib-3.5.1-cp38-cp38-manylinux_2_5_x86_64.manylinux1_x86_64.whl (11.3 MB)\n",
      "\u001b[K     |████████████████████████████████| 11.3 MB 4.9 MB/s eta 0:00:01\n",
      "\u001b[?25hCollecting sklearn\n",
      "  Downloading sklearn-0.0.tar.gz (1.1 kB)\n",
      "Collecting pandas\n",
      "  Downloading pandas-1.4.2-cp38-cp38-manylinux_2_17_x86_64.manylinux2014_x86_64.whl (11.7 MB)\n",
      "\u001b[K     |████████████████████████████████| 11.7 MB 39.8 MB/s eta 0:00:01\n",
      "\u001b[?25hCollecting scikit-image\n",
      "  Downloading scikit_image-0.19.2-cp38-cp38-manylinux_2_17_x86_64.manylinux2014_x86_64.whl (14.0 MB)\n",
      "\u001b[K     |████████████████████████████████| 14.0 MB 6.3 MB/s eta 0:00:01\n",
      "\u001b[?25hRequirement already satisfied: pyparsing>=2.2.1 in /usr/local/lib/python3.8/dist-packages (from matplotlib) (3.0.8)\n",
      "Collecting cycler>=0.10\n",
      "  Downloading cycler-0.11.0-py3-none-any.whl (6.4 kB)\n",
      "Requirement already satisfied: python-dateutil>=2.7 in /usr/local/lib/python3.8/dist-packages (from matplotlib) (2.8.2)\n",
      "Requirement already satisfied: numpy>=1.17 in /usr/local/lib/python3.8/dist-packages (from matplotlib) (1.22.3)\n",
      "Collecting fonttools>=4.22.0\n",
      "  Downloading fonttools-4.33.3-py3-none-any.whl (930 kB)\n",
      "\u001b[K     |████████████████████████████████| 930 kB 78.7 MB/s eta 0:00:01\n",
      "\u001b[?25hCollecting kiwisolver>=1.0.1\n",
      "  Downloading kiwisolver-1.4.2-cp38-cp38-manylinux_2_5_x86_64.manylinux1_x86_64.whl (1.2 MB)\n",
      "\u001b[K     |████████████████████████████████| 1.2 MB 69.6 MB/s eta 0:00:01\n",
      "\u001b[?25hRequirement already satisfied: pillow>=6.2.0 in /usr/local/lib/python3.8/dist-packages (from matplotlib) (9.1.0)\n",
      "Requirement already satisfied: packaging>=20.0 in /usr/local/lib/python3.8/dist-packages (from matplotlib) (21.3)\n",
      "Collecting scikit-learn\n",
      "  Downloading scikit_learn-1.0.2-cp38-cp38-manylinux_2_17_x86_64.manylinux2014_x86_64.whl (26.7 MB)\n",
      "\u001b[K     |████████████████████████████████| 26.7 MB 20.0 MB/s eta 0:00:01\n",
      "\u001b[?25hCollecting pytz>=2020.1\n",
      "  Downloading pytz-2022.1-py2.py3-none-any.whl (503 kB)\n",
      "\u001b[K     |████████████████████████████████| 503 kB 71.4 MB/s eta 0:00:01\n",
      "\u001b[?25hCollecting tifffile>=2019.7.26\n",
      "  Downloading tifffile-2022.4.26-py3-none-any.whl (191 kB)\n",
      "\u001b[K     |████████████████████████████████| 191 kB 78.6 MB/s eta 0:00:01\n",
      "\u001b[?25hCollecting PyWavelets>=1.1.1\n",
      "  Downloading PyWavelets-1.3.0-cp38-cp38-manylinux_2_17_x86_64.manylinux2014_x86_64.whl (6.9 MB)\n",
      "\u001b[K     |████████████████████████████████| 6.9 MB 1.8 MB/s eta 0:00:01\n",
      "\u001b[?25hCollecting imageio>=2.4.1\n",
      "  Downloading imageio-2.18.0-py3-none-any.whl (3.4 MB)\n",
      "\u001b[K     |████████████████████████████████| 3.4 MB 64.4 MB/s eta 0:00:01\n",
      "\u001b[?25hCollecting networkx>=2.2\n",
      "  Downloading networkx-2.8-py3-none-any.whl (2.0 MB)\n",
      "\u001b[K     |████████████████████████████████| 2.0 MB 80.9 MB/s eta 0:00:01\n",
      "\u001b[?25hCollecting scipy>=1.4.1\n",
      "  Downloading scipy-1.8.0-cp38-cp38-manylinux_2_17_x86_64.manylinux2014_x86_64.whl (41.6 MB)\n",
      "\u001b[K     |████████████████████████████████| 41.6 MB 74.2 MB/s eta 0:00:01\n",
      "\u001b[?25hRequirement already satisfied: six>=1.5 in /usr/lib/python3/dist-packages (from python-dateutil>=2.7->matplotlib) (1.14.0)\n",
      "Collecting joblib>=0.11\n",
      "  Downloading joblib-1.1.0-py2.py3-none-any.whl (306 kB)\n",
      "\u001b[K     |████████████████████████████████| 306 kB 78.5 MB/s eta 0:00:01\n",
      "\u001b[?25hCollecting threadpoolctl>=2.0.0\n",
      "  Downloading threadpoolctl-3.1.0-py3-none-any.whl (14 kB)\n",
      "Building wheels for collected packages: sklearn\n",
      "  Building wheel for sklearn (setup.py) ... \u001b[?25ldone\n",
      "\u001b[?25h  Created wheel for sklearn: filename=sklearn-0.0-py2.py3-none-any.whl size=1315 sha256=0011abd00686e360cdd0d10e56c19d7178dda619b2fc6536b71e1dfcd86f3920\n",
      "  Stored in directory: /root/.cache/pip/wheels/22/0b/40/fd3f795caaa1fb4c6cb738bc1f56100be1e57da95849bfc897\n",
      "Successfully built sklearn\n",
      "Installing collected packages: cycler, fonttools, kiwisolver, matplotlib, scipy, joblib, threadpoolctl, scikit-learn, sklearn, pytz, pandas, tifffile, PyWavelets, imageio, networkx, scikit-image\n",
      "Successfully installed PyWavelets-1.3.0 cycler-0.11.0 fonttools-4.33.3 imageio-2.18.0 joblib-1.1.0 kiwisolver-1.4.2 matplotlib-3.5.1 networkx-2.8 pandas-1.4.2 pytz-2022.1 scikit-image-0.19.2 scikit-learn-1.0.2 scipy-1.8.0 sklearn-0.0 threadpoolctl-3.1.0 tifffile-2022.4.26\n",
      "Note: you may need to restart the kernel to use updated packages.\n"
     ]
    }
   ],
   "source": [
    "%pip install matplotlib sklearn pandas scikit-image"
   ]
  },
  {
   "cell_type": "code",
   "execution_count": 2,
   "metadata": {},
   "outputs": [],
   "source": [
    "import torchvision as thv\n",
    "import torch \n",
    "from torchvision import models\n",
    "import torch.nn as nn\n",
    "import matplotlib.pyplot as plt\n",
    "import torch.nn as nn\n",
    "import torch.nn.functional as F\n",
    "import torch.optim as optim\n",
    "from torchvision import datasets, transforms, models\n",
    "from torchvision.transforms import ToTensor, Compose, RandomCrop, Resize, Normalize\n",
    "from torch.optim.lr_scheduler import ExponentialLR\n",
    "import random\n",
    "import numpy as np\n",
    "import pandas as pd\n",
    "from sklearn.model_selection import train_test_split\n",
    "from sklearn.metrics import precision_recall_fscore_support, accuracy_score\n",
    "from torch.utils.data import TensorDataset, DataLoader, random_split\n",
    "import matplotlib.pyplot as plt\n",
    "from skimage import io, color\n",
    "import os"
   ]
  },
  {
   "cell_type": "markdown",
   "metadata": {},
   "source": [
    "Checking if GPU is available if so make use of CUDA "
   ]
  },
  {
   "cell_type": "code",
   "execution_count": 3,
   "metadata": {},
   "outputs": [],
   "source": [
    "device = torch.device('cuda' if torch.cuda.is_available() else 'cpu')"
   ]
  },
  {
   "cell_type": "markdown",
   "metadata": {},
   "source": [
    "#### Data Preprocessing"
   ]
  },
  {
   "cell_type": "code",
   "execution_count": 4,
   "metadata": {},
   "outputs": [
    {
     "data": {
      "text/html": [
       "<div>\n",
       "<style scoped>\n",
       "    .dataframe tbody tr th:only-of-type {\n",
       "        vertical-align: middle;\n",
       "    }\n",
       "\n",
       "    .dataframe tbody tr th {\n",
       "        vertical-align: top;\n",
       "    }\n",
       "\n",
       "    .dataframe thead th {\n",
       "        text-align: right;\n",
       "    }\n",
       "</style>\n",
       "<table border=\"1\" class=\"dataframe\">\n",
       "  <thead>\n",
       "    <tr style=\"text-align: right;\">\n",
       "      <th></th>\n",
       "      <th>Unnamed: 0</th>\n",
       "      <th>md5hash</th>\n",
       "      <th>fitzpatrick</th>\n",
       "      <th>label</th>\n",
       "      <th>nine_partition_label</th>\n",
       "      <th>three_partition_label</th>\n",
       "      <th>qc</th>\n",
       "      <th>url</th>\n",
       "      <th>url_alphanum</th>\n",
       "    </tr>\n",
       "  </thead>\n",
       "  <tbody>\n",
       "    <tr>\n",
       "      <th>0</th>\n",
       "      <td>0</td>\n",
       "      <td>5e82a45bc5d78bd24ae9202d194423f8</td>\n",
       "      <td>3</td>\n",
       "      <td>drug induced pigmentary changes</td>\n",
       "      <td>inflammatory</td>\n",
       "      <td>non-neoplastic</td>\n",
       "      <td>NaN</td>\n",
       "      <td>https://www.dermaamin.com/site/images/clinical...</td>\n",
       "      <td>httpwwwdermaamincomsiteimagesclinicalpicmminoc...</td>\n",
       "    </tr>\n",
       "    <tr>\n",
       "      <th>1</th>\n",
       "      <td>1</td>\n",
       "      <td>fa2911a9b13b6f8af79cb700937cc14f</td>\n",
       "      <td>1</td>\n",
       "      <td>photodermatoses</td>\n",
       "      <td>inflammatory</td>\n",
       "      <td>non-neoplastic</td>\n",
       "      <td>NaN</td>\n",
       "      <td>https://www.dermaamin.com/site/images/clinical...</td>\n",
       "      <td>httpwwwdermaamincomsiteimagesclinicalpicpphoto...</td>\n",
       "    </tr>\n",
       "    <tr>\n",
       "      <th>2</th>\n",
       "      <td>2</td>\n",
       "      <td>d2bac3c9e4499032ca8e9b07c7d3bc40</td>\n",
       "      <td>2</td>\n",
       "      <td>dermatofibroma</td>\n",
       "      <td>benign dermal</td>\n",
       "      <td>benign</td>\n",
       "      <td>NaN</td>\n",
       "      <td>https://www.dermaamin.com/site/images/clinical...</td>\n",
       "      <td>httpwwwdermaamincomsiteimagesclinicalpicdderma...</td>\n",
       "    </tr>\n",
       "    <tr>\n",
       "      <th>3</th>\n",
       "      <td>3</td>\n",
       "      <td>0a94359e7eaacd7178e06b2823777789</td>\n",
       "      <td>1</td>\n",
       "      <td>psoriasis</td>\n",
       "      <td>inflammatory</td>\n",
       "      <td>non-neoplastic</td>\n",
       "      <td>NaN</td>\n",
       "      <td>https://www.dermaamin.com/site/images/clinical...</td>\n",
       "      <td>httpwwwdermaamincomsiteimagesclinicalpicppsori...</td>\n",
       "    </tr>\n",
       "    <tr>\n",
       "      <th>4</th>\n",
       "      <td>4</td>\n",
       "      <td>a39ec3b1f22c08a421fa20535e037bba</td>\n",
       "      <td>1</td>\n",
       "      <td>psoriasis</td>\n",
       "      <td>inflammatory</td>\n",
       "      <td>non-neoplastic</td>\n",
       "      <td>NaN</td>\n",
       "      <td>https://www.dermaamin.com/site/images/clinical...</td>\n",
       "      <td>httpwwwdermaamincomsiteimagesclinicalpicppsori...</td>\n",
       "    </tr>\n",
       "  </tbody>\n",
       "</table>\n",
       "</div>"
      ],
      "text/plain": [
       "   Unnamed: 0                           md5hash  fitzpatrick  \\\n",
       "0           0  5e82a45bc5d78bd24ae9202d194423f8            3   \n",
       "1           1  fa2911a9b13b6f8af79cb700937cc14f            1   \n",
       "2           2  d2bac3c9e4499032ca8e9b07c7d3bc40            2   \n",
       "3           3  0a94359e7eaacd7178e06b2823777789            1   \n",
       "4           4  a39ec3b1f22c08a421fa20535e037bba            1   \n",
       "\n",
       "                             label nine_partition_label three_partition_label  \\\n",
       "0  drug induced pigmentary changes         inflammatory        non-neoplastic   \n",
       "1                  photodermatoses         inflammatory        non-neoplastic   \n",
       "2                   dermatofibroma        benign dermal                benign   \n",
       "3                        psoriasis         inflammatory        non-neoplastic   \n",
       "4                        psoriasis         inflammatory        non-neoplastic   \n",
       "\n",
       "    qc                                                url  \\\n",
       "0  NaN  https://www.dermaamin.com/site/images/clinical...   \n",
       "1  NaN  https://www.dermaamin.com/site/images/clinical...   \n",
       "2  NaN  https://www.dermaamin.com/site/images/clinical...   \n",
       "3  NaN  https://www.dermaamin.com/site/images/clinical...   \n",
       "4  NaN  https://www.dermaamin.com/site/images/clinical...   \n",
       "\n",
       "                                        url_alphanum  \n",
       "0  httpwwwdermaamincomsiteimagesclinicalpicmminoc...  \n",
       "1  httpwwwdermaamincomsiteimagesclinicalpicpphoto...  \n",
       "2  httpwwwdermaamincomsiteimagesclinicalpicdderma...  \n",
       "3  httpwwwdermaamincomsiteimagesclinicalpicppsori...  \n",
       "4  httpwwwdermaamincomsiteimagesclinicalpicppsori...  "
      ]
     },
     "execution_count": 4,
     "metadata": {},
     "output_type": "execute_result"
    }
   ],
   "source": [
    "fitzDF = pd.read_csv('./fitzpatrick17k.csv') \n",
    "fitzDF.head(5)"
   ]
  },
  {
   "cell_type": "code",
   "execution_count": 5,
   "metadata": {},
   "outputs": [
    {
     "name": "stdout",
     "output_type": "stream",
     "text": [
      "Percentage of non-neoplastic: 72.87205163781142%\n",
      "Percentage of benign: 13.47650358931049%\n",
      "Percentage of malignant: 13.651444772878085%\n"
     ]
    }
   ],
   "source": [
    "percent_neoplastic = fitzDF[fitzDF['three_partition_label'] == 'non-neoplastic'].count() / fitzDF['three_partition_label'].count() * 100\n",
    "percent_benign = fitzDF[fitzDF['three_partition_label'] == 'benign'].count() / fitzDF['three_partition_label'].count() * 100\n",
    "percent_malignant = fitzDF[fitzDF['three_partition_label'] == 'malignant'].count() / fitzDF['three_partition_label'].count() * 100\n",
    "\n",
    "print('Percentage of non-neoplastic: {}%'.format(percent_neoplastic.three_partition_label))\n",
    "print('Percentage of benign: {}%'.format(percent_benign.three_partition_label))\n",
    "print('Percentage of malignant: {}%'.format(percent_malignant.three_partition_label))\n",
    "\n",
    "labels = 'non-neoplastic', 'benign', 'malignant'\n",
    "sizes = [percent_neoplastic.three_partition_label, percent_benign.three_partition_label, percent_malignant.three_partition_label]\n",
    "explode = (0.1, 0, 0)"
   ]
  },
  {
   "cell_type": "markdown",
   "metadata": {},
   "source": [
    "##### Patient Diagnosis Pie Chart"
   ]
  },
  {
   "cell_type": "code",
   "execution_count": 6,
   "metadata": {},
   "outputs": [
    {
     "data": {
      "image/png": "[encoded data removed]",
      "text/plain": [
       "<Figure size 432x288 with 1 Axes>"
      ]
     },
     "metadata": {},
     "output_type": "display_data"
    }
   ],
   "source": [
    "fig1, ax1 = plt.subplots()\n",
    "ax1.pie(sizes, labels=labels, explode=explode, autopct='%1.1f%%', shadow=True, startangle=90)\n",
    "ax1.axis('equal')\n",
    "\n",
    "plt.show()"
   ]
  },
  {
   "cell_type": "code",
   "execution_count": 7,
   "metadata": {},
   "outputs": [],
   "source": [
    "fitz6 = len(fitzDF[(fitzDF['fitzpatrick'] == 6) & (fitzDF['three_partition_label'] == 'malignant')])\n",
    "fitz5 = len(fitzDF[(fitzDF['fitzpatrick'] == 5) & (fitzDF['three_partition_label'] == 'malignant')])\n",
    "fitz4 = len(fitzDF[(fitzDF['fitzpatrick'] == 4) & (fitzDF['three_partition_label'] == 'malignant')])\n",
    "fitz3 = len(fitzDF[(fitzDF['fitzpatrick'] == 3) & (fitzDF['three_partition_label'] == 'malignant')])\n",
    "fitz2 = len(fitzDF[(fitzDF['fitzpatrick'] == 2) & (fitzDF['three_partition_label'] == 'malignant')])\n",
    "fitz1 = len(fitzDF[(fitzDF['fitzpatrick'] == 1) & (fitzDF['three_partition_label'] == 'malignant')])\n",
    "\n",
    "data = {'fitzpatrick': [6, 5, 4, 3, 2, 1],\n",
    "        'malignant': [fitz6, fitz5, fitz4, fitz3, fitz2, fitz1]}"
   ]
  },
  {
   "cell_type": "code",
   "execution_count": 8,
   "metadata": {},
   "outputs": [
    {
     "data": {
      "image/png": "[encoded data removed]",
      "text/plain": [
       "<Figure size 432x288 with 1 Axes>"
      ]
     },
     "metadata": {
      "needs_background": "light"
     },
     "output_type": "display_data"
    }
   ],
   "source": [
    "plt.bar(data['fitzpatrick'], data['malignant'], width=0.5, color='b')\n",
    "plt.xlabel('Fitzpatrick')\n",
    "plt.ylabel('Number of Malignant')\n",
    "plt.title('Breakdown of Malignant Images')\n",
    "plt.show()"
   ]
  },
  {
   "cell_type": "code",
   "execution_count": 9,
   "metadata": {},
   "outputs": [],
   "source": [
    "malignant_fitzDF = fitzDF[fitzDF['three_partition_label'] == 'malignant']\n",
    "malignantCount = len(malignant_fitzDF)\n",
    "benign = fitzDF[fitzDF['three_partition_label'] == 'benign']\n",
    "benignCount = len(benign)\n",
    "neoplastic = fitzDF[fitzDF['three_partition_label'] == 'non-neoplastic']\n",
    "neoplasticCount = len(neoplastic)"
   ]
  },
  {
   "cell_type": "code",
   "execution_count": 10,
   "metadata": {},
   "outputs": [],
   "source": [
    "indices = fitzDF['Unnamed: 0'].values"
   ]
  },
  {
   "cell_type": "code",
   "execution_count": 11,
   "metadata": {},
   "outputs": [
    {
     "name": "stdout",
     "output_type": "stream",
     "text": [
      "torch.Size([16577, 3, 224, 224])\n"
     ]
    }
   ],
   "source": [
    "transform=transforms.Compose([\n",
    "            transforms.ToPILImage(),\n",
    "            transforms.RandomResizedCrop(size=256, scale=(0.8, 1.0)),\n",
    "            transforms.RandomRotation(degrees=15),\n",
    "            transforms.ColorJitter(),\n",
    "            transforms.RandomHorizontalFlip(),\n",
    "            transforms.CenterCrop(size=224),\n",
    "            transforms.ToTensor(),\n",
    "            transforms.Normalize([0.485, 0.456, 0.406],\n",
    "                                [0.229, 0.224, 0.225])\n",
    "            ])\n",
    "\n",
    "imgListOfTensors = []\n",
    "if os.path.exists('./imgListOfTensors.pt'):\n",
    "    imgListOfTensors = torch.load('./imgListOfTensors.pt')\n",
    "else:\n",
    "    for md5hash in fitzDF.md5hash:\n",
    "        if os.path.exists('./finalfitz17k/' + md5hash + '.jpg'):\n",
    "\n",
    "            img = io.imread('./finalfitz17k/' + md5hash + '.jpg')\n",
    "            if(len(img.shape) < 3):\n",
    "                img = color.gray2rgb(img)\n",
    "            image = transform(img)\n",
    "            imgListOfTensors += [image]\n",
    "        else:\n",
    "            fitzDF = fitzDF.drop(md5hash)\n",
    "    imgListOfTensors = torch.stack(imgListOfTensors)\n",
    "    torch.save(imgListOfTensors, './imgListOfTensors.pt')\n",
    "print(imgListOfTensors.shape)"
   ]
  },
  {
   "cell_type": "code",
   "execution_count": 12,
   "metadata": {},
   "outputs": [],
   "source": [
    "diagnosis = fitzDF.three_partition_label.values\n",
    "\n",
    "tempList = []\n",
    "\n",
    "for i in range(len(diagnosis)):\n",
    "    if diagnosis[i] == 'non-neoplastic':\n",
    "        temp = [1, 0, 0]\n",
    "    elif diagnosis[i] == 'benign':\n",
    "        temp = [0, 1, 0]\n",
    "    elif diagnosis[i] == 'malignant':\n",
    "        temp = [0, 0, 1]\n",
    "    tempList += [temp]\n",
    "diagnosisNP = np.array(tempList)"
   ]
  },
  {
   "cell_type": "code",
   "execution_count": 13,
   "metadata": {},
   "outputs": [],
   "source": [
    "xDataNP = imgListOfTensors.numpy()\n",
    "yDataNP = diagnosisNP\n",
    "X_train, X_test, y_train, y_test, train_indices, test_indices = train_test_split(xDataNP, yDataNP, indices, test_size=0.3, random_state=42)\n",
    "\n",
    "train_data = TensorDataset(torch.from_numpy(X_train).to(device), torch.from_numpy(y_train).to(device))\n",
    "test_data = TensorDataset(torch.from_numpy(X_test).to(device), torch.from_numpy(y_test).to(device))"
   ]
  },
  {
   "cell_type": "code",
   "execution_count": 14,
   "metadata": {},
   "outputs": [
    {
     "name": "stderr",
     "output_type": "stream",
     "text": [
      "Downloading: \"https://download.pytorch.org/models/resnet50-0676ba61.pth\" to /root/.cache/torch/hub/checkpoints/resnet50-0676ba61.pth\n",
      "24.0%IOPub message rate exceeded.\n",
      "The notebook server will temporarily stop sending output\n",
      "to the client in order to avoid crashing it.\n",
      "To change this limit, set the config variable\n",
      "`--NotebookApp.iopub_msg_rate_limit`.\n",
      "\n",
      "Current values:\n",
      "NotebookApp.iopub_msg_rate_limit=1000.0 (msgs/sec)\n",
      "NotebookApp.rate_limit_window=3.0 (secs)\n",
      "\n",
      "74.2%IOPub message rate exceeded.\n",
      "The notebook server will temporarily stop sending output\n",
      "to the client in order to avoid crashing it.\n",
      "To change this limit, set the config variable\n",
      "`--NotebookApp.iopub_msg_rate_limit`.\n",
      "\n",
      "Current values:\n",
      "NotebookApp.iopub_msg_rate_limit=1000.0 (msgs/sec)\n",
      "NotebookApp.rate_limit_window=3.0 (secs)\n",
      "\n",
      "100.0%\n"
     ]
    }
   ],
   "source": [
    "model = models.resnet50(pretrained=True).to(device)\n",
    "\n",
    "for param in model.parameters():\n",
    "    param.requires_grad = False\n",
    "\n",
    "model.fc = nn.Sequential(\n",
    "        nn.Linear(2048, 2048),\n",
    "        nn.ReLU(),\n",
    "        nn.Linear(2048, 3),\n",
    "    ).to(device)"
   ]
  },
  {
   "cell_type": "code",
   "execution_count": 15,
   "metadata": {},
   "outputs": [],
   "source": [
    "EPOCHS = 50\n",
    "batch_size = 64\n",
    "learning_rate = 0.0001\n",
    "\n",
    "criterion = nn.CrossEntropyLoss()\n",
    "optimizer = torch.optim.Adam(model.fc.parameters(), lr=learning_rate)\n",
    "scheduler = torch.optim.lr_scheduler.StepLR(optimizer, step_size=10, gamma=0.1)"
   ]
  },
  {
   "cell_type": "markdown",
   "metadata": {},
   "source": [
    "## Training "
   ]
  },
  {
   "cell_type": "code",
   "execution_count": 16,
   "metadata": {},
   "outputs": [],
   "source": [
    "train_loader = DataLoader(train_data, batch_size=batch_size, shuffle=True, drop_last=True)\n",
    "test_loader = DataLoader(test_data, batch_size=batch_size, shuffle=False, drop_last=True)"
   ]
  },
  {
   "cell_type": "code",
   "execution_count": 17,
   "metadata": {},
   "outputs": [],
   "source": [
    "def Train(model, loader, optimizer, criterion):\n",
    "  epoch_loss = []\n",
    "  epoch_acc = 0\n",
    "\n",
    "  model.train()\n",
    "  for data, labels in loader:\n",
    "    optimizer.zero_grad()\n",
    "\n",
    "    output = model(data)\n",
    "\n",
    "    loss = criterion(output, labels.float())\n",
    "    epoch_loss.append(loss.item())\n",
    "\n",
    "    preds = output.argmax(dim=1)\n",
    "    labels = labels.argmax(dim=1)\n",
    "    epoch_acc += (preds == labels).cpu().sum()\n",
    "\n",
    "    loss.backward()\n",
    "    optimizer.step()\n",
    "    \n",
    "  return np.mean(epoch_loss), epoch_acc / len(loader.dataset)"
   ]
  },
  {
   "cell_type": "code",
   "execution_count": 18,
   "metadata": {},
   "outputs": [],
   "source": [
    "def evaluate(model, loader, criterion, test=False):\n",
    "  epoch_loss = []\n",
    "  epoch_acc = 0\n",
    "  predicted, expected = [], []\n",
    "\n",
    "  model.eval()\n",
    "  with torch.no_grad():\n",
    "    for text, labels in loader:\n",
    "\n",
    "      output = model(text)\n",
    "\n",
    "      loss = criterion(output, labels.float())\n",
    "      epoch_loss.append(loss.item())\n",
    "    \n",
    "      preds = output.argmax(dim=1)\n",
    "      labels = labels.argmax(dim=1)\n",
    "      epoch_acc += (preds == labels).cpu().sum()\n",
    "\n",
    "      predicted.append(preds)\n",
    "      expected.append(labels)\n",
    "\n",
    "  if test:\n",
    "    expected = np.array(torch.cat(expected).cpu(), dtype=float)\n",
    "    predicted = np.array(torch.cat(predicted).cpu(), dtype=float)\n",
    "    precision, recall, fscore, _ = precision_recall_fscore_support(expected, predicted, average='macro')\n",
    "    accuracy = accuracy_score(expected, predicted)\n",
    "    print('Scores:')\n",
    "    print(f'Precision: {precision}, Recall: {recall}, Fscore: {fscore}, Accuracy: {accuracy}')\n",
    "\n",
    "  return predicted, expected"
   ]
  },
  {
   "cell_type": "code",
   "execution_count": 19,
   "metadata": {},
   "outputs": [
    {
     "name": "stdout",
     "output_type": "stream",
     "text": [
      "Epoch: 0 Train Loss: 0.6925536614755241 Train Acc: 0.7402396202087402\n",
      "Epoch: 1 Train Loss: 0.6428271186285914 Train Acc: 0.7551495432853699\n",
      "Epoch: 2 Train Loss: 0.6180819908558335 Train Acc: 0.7634232640266418\n",
      "Epoch: 3 Train Loss: 0.6040304701631241 Train Acc: 0.7668706178665161\n",
      "Epoch: 4 Train Loss: 0.5793396914532172 Train Acc: 0.7766956686973572\n",
      "Epoch: 5 Train Loss: 0.571127534900581 Train Acc: 0.781866729259491\n",
      "Epoch: 6 Train Loss: 0.5548423268518395 Train Acc: 0.7866069078445435\n",
      "Epoch: 7 Train Loss: 0.533594382401988 Train Acc: 0.7961733937263489\n",
      "Epoch: 8 Train Loss: 0.5171115406639668 Train Acc: 0.8023787140846252\n",
      "Epoch: 9 Train Loss: 0.494326702468303 Train Acc: 0.8113418817520142\n",
      "Epoch: 10 Train Loss: 0.4548623298413187 Train Acc: 0.8272860646247864\n",
      "Epoch: 11 Train Loss: 0.4444747978811106 Train Acc: 0.8307334184646606\n",
      "Epoch: 12 Train Loss: 0.4418117741524185 Train Acc: 0.830474853515625\n",
      "Epoch: 13 Train Loss: 0.4388632958765188 Train Acc: 0.8354735970497131\n",
      "Epoch: 14 Train Loss: 0.43584274455328675 Train Acc: 0.83805912733078\n",
      "Epoch: 15 Train Loss: 0.4326624992144042 Train Acc: 0.8347840905189514\n",
      "Epoch: 16 Train Loss: 0.43127762019963556 Train Acc: 0.8384038805961609\n",
      "Epoch: 17 Train Loss: 0.42833995802626423 Train Acc: 0.8404722809791565\n",
      "Epoch: 18 Train Loss: 0.42458876852172517 Train Acc: 0.8422821760177612\n",
      "Epoch: 19 Train Loss: 0.41874185698467065 Train Acc: 0.8447815179824829\n",
      "Epoch: 20 Train Loss: 0.4144499480559681 Train Acc: 0.8437473177909851\n",
      "Epoch: 21 Train Loss: 0.41596879567230605 Train Acc: 0.8436611294746399\n",
      "Epoch: 22 Train Loss: 0.4137138806653945 Train Acc: 0.8456433415412903\n",
      "Epoch: 23 Train Loss: 0.41452924783717204 Train Acc: 0.8426269292831421\n",
      "Epoch: 24 Train Loss: 0.4134498630439379 Train Acc: 0.8466776013374329\n",
      "Epoch: 25 Train Loss: 0.4146888446248039 Train Acc: 0.8459880948066711\n",
      "Epoch: 26 Train Loss: 0.4149062032528345 Train Acc: 0.8442643880844116\n",
      "Epoch: 27 Train Loss: 0.4120396301561956 Train Acc: 0.8475394248962402\n",
      "Epoch: 28 Train Loss: 0.4112291338529376 Train Acc: 0.8476256132125854\n",
      "Epoch: 29 Train Loss: 0.41110029306200985 Train Acc: 0.8447815179824829\n",
      "Epoch: 30 Train Loss: 0.4134359769728961 Train Acc: 0.8452986478805542\n",
      "Epoch: 31 Train Loss: 0.4102387834978367 Train Acc: 0.8464190363883972\n",
      "Epoch: 32 Train Loss: 0.4106959405854262 Train Acc: 0.8483151197433472\n",
      "Epoch: 33 Train Loss: 0.4108488297923494 Train Acc: 0.8460742831230164\n",
      "Epoch: 34 Train Loss: 0.40998994859542637 Train Acc: 0.8465052247047424\n",
      "Epoch: 35 Train Loss: 0.40920196152523736 Train Acc: 0.8454710245132446\n",
      "Epoch: 36 Train Loss: 0.41059054475462897 Train Acc: 0.8465052247047424\n",
      "Epoch: 37 Train Loss: 0.410439131338952 Train Acc: 0.8472808599472046\n",
      "Epoch: 38 Train Loss: 0.41078097912488065 Train Acc: 0.8484874367713928\n",
      "Epoch: 39 Train Loss: 0.4093473499321806 Train Acc: 0.8464190363883972\n",
      "Epoch: 40 Train Loss: 0.41032415636665914 Train Acc: 0.8484012484550476\n",
      "Epoch: 41 Train Loss: 0.4121961067559311 Train Acc: 0.8445229530334473\n",
      "Epoch: 42 Train Loss: 0.41198824370763576 Train Acc: 0.8465052247047424\n",
      "Epoch: 43 Train Loss: 0.4082105539286334 Train Acc: 0.848573625087738\n",
      "Epoch: 44 Train Loss: 0.4113496281000791 Train Acc: 0.8462466597557068\n",
      "Epoch: 45 Train Loss: 0.4089327115380303 Train Acc: 0.8481427431106567\n",
      "Epoch: 46 Train Loss: 0.41200090623692254 Train Acc: 0.8472808599472046\n",
      "Epoch: 47 Train Loss: 0.41122516561608286 Train Acc: 0.8457295298576355\n",
      "Epoch: 48 Train Loss: 0.4090749588460553 Train Acc: 0.8448677062988281\n",
      "Epoch: 49 Train Loss: 0.4131755225401557 Train Acc: 0.843316376209259\n"
     ]
    }
   ],
   "source": [
    "train_loss = []\n",
    "train_acc = []\n",
    "\n",
    "for epoch in range(EPOCHS):\n",
    "  trainEpochLoss, trainEpochAcc = Train(model, train_loader, optimizer, criterion)\n",
    "  train_loss.append(trainEpochLoss)\n",
    "  train_acc.append(trainEpochAcc)\n",
    "  scheduler.step()\n",
    "  print(f'Epoch: {epoch} Train Loss: {trainEpochLoss} Train Acc: {trainEpochAcc}')"
   ]
  },
  {
   "cell_type": "code",
   "execution_count": 20,
   "metadata": {},
   "outputs": [
    {
     "data": {
      "image/png": "[encoded data removed]",
      "text/plain": [
       "<Figure size 432x288 with 1 Axes>"
      ]
     },
     "metadata": {
      "needs_background": "light"
     },
     "output_type": "display_data"
    }
   ],
   "source": [
    "plt.plot(train_loss, label='Train Loss')\n",
    "plt.show()"
   ]
  },
  {
   "cell_type": "code",
   "execution_count": 21,
   "metadata": {},
   "outputs": [
    {
     "data": {
      "image/png": "[encoded data removed]",
      "text/plain": [
       "<Figure size 432x288 with 1 Axes>"
      ]
     },
     "metadata": {
      "needs_background": "light"
     },
     "output_type": "display_data"
    }
   ],
   "source": [
    "plt.plot(train_acc, label='Train Acc')\n",
    "plt.show()"
   ]
  },
  {
   "cell_type": "code",
   "execution_count": 22,
   "metadata": {},
   "outputs": [],
   "source": [
    "torch.cuda.empty_cache()"
   ]
  },
  {
   "cell_type": "code",
   "execution_count": 23,
   "metadata": {},
   "outputs": [
    {
     "name": "stdout",
     "output_type": "stream",
     "text": [
      "Scores:\n",
      "Precision: 0.6933914559068461, Recall: 0.5624875603699553, Fscore: 0.600369971164366, Accuracy: 0.7954545454545454\n"
     ]
    }
   ],
   "source": [
    "predicted, expected = evaluate(model, test_loader, criterion, test=True)"
   ]
  },
  {
   "cell_type": "code",
   "execution_count": 24,
   "metadata": {},
   "outputs": [
    {
     "data": {
      "image/png": "[encoded data removed]",
      "text/plain": [
       "<Figure size 432x288 with 2 Axes>"
      ]
     },
     "metadata": {
      "needs_background": "light"
     },
     "output_type": "display_data"
    }
   ],
   "source": [
    "from sklearn.metrics import confusion_matrix, ConfusionMatrixDisplay\n",
    "\n",
    "matrix = confusion_matrix(expected, predicted, labels=[0, 1, 2], normalize='true')\n",
    "displayMatrix = ConfusionMatrixDisplay(matrix, display_labels=['Non-Neoplastic', 'Benign', 'Malignant'])\n",
    "displayMatrix.plot(cmap='viridis')\n",
    "plt.title('Confusion Matrix')\n",
    "plt.show()\n"
   ]
  },
  {
   "cell_type": "code",
   "execution_count": 25,
   "metadata": {},
   "outputs": [],
   "source": [
    "test_indices = list(test_indices)\n",
    "test_indices.remove(test_indices[len(test_indices) - 1])\n",
    "resultDF = pd.DataFrame(columns=['md5hash', 'predicted', 'expected', 'fitzpatrick', 'three_partition_label'])\n",
    "tempDF = fitzDF[fitzDF['Unnamed: 0'].isin(test_indices)]\n",
    "data = []\n",
    "for index, indices in enumerate(test_indices):\n",
    "    if len(predicted) - 1 >= index:\n",
    "        data.append({\n",
    "            'index': indices,\n",
    "            'md5hash': tempDF[tempDF['Unnamed: 0'] == indices].md5hash.values[0],\n",
    "            'predicted': predicted[index],\n",
    "            'expected': expected[index],\n",
    "            'fitzpatrick': tempDF[tempDF['Unnamed: 0'] == indices].fitzpatrick.values[0],\n",
    "            'three_partition_label': tempDF[tempDF['Unnamed: 0'] == indices].three_partition_label.values[0]\n",
    "        })"
   ]
  },
  {
   "cell_type": "code",
   "execution_count": 26,
   "metadata": {},
   "outputs": [
    {
     "name": "stderr",
     "output_type": "stream",
     "text": [
      "/tmp/ipykernel_12/1548436551.py:1: FutureWarning: The frame.append method is deprecated and will be removed from pandas in a future version. Use pandas.concat instead.\n",
      "  resultDF = resultDF.append(data, ignore_index=True)\n"
     ]
    }
   ],
   "source": [
    "resultDF = resultDF.append(data, ignore_index=True)"
   ]
  },
  {
   "cell_type": "code",
   "execution_count": 27,
   "metadata": {},
   "outputs": [
    {
     "data": {
      "text/html": [
       "<div>\n",
       "<style scoped>\n",
       "    .dataframe tbody tr th:only-of-type {\n",
       "        vertical-align: middle;\n",
       "    }\n",
       "\n",
       "    .dataframe tbody tr th {\n",
       "        vertical-align: top;\n",
       "    }\n",
       "\n",
       "    .dataframe thead th {\n",
       "        text-align: right;\n",
       "    }\n",
       "</style>\n",
       "<table border=\"1\" class=\"dataframe\">\n",
       "  <thead>\n",
       "    <tr style=\"text-align: right;\">\n",
       "      <th></th>\n",
       "      <th>md5hash</th>\n",
       "      <th>predicted</th>\n",
       "      <th>expected</th>\n",
       "      <th>fitzpatrick</th>\n",
       "      <th>three_partition_label</th>\n",
       "      <th>index</th>\n",
       "    </tr>\n",
       "  </thead>\n",
       "  <tbody>\n",
       "    <tr>\n",
       "      <th>0</th>\n",
       "      <td>42011fa6b24713fc37c521ff2e50758a</td>\n",
       "      <td>0.0</td>\n",
       "      <td>0.0</td>\n",
       "      <td>3</td>\n",
       "      <td>non-neoplastic</td>\n",
       "      <td>10024.0</td>\n",
       "    </tr>\n",
       "    <tr>\n",
       "      <th>1</th>\n",
       "      <td>34becf085bc7a8e0a42fe577e90d10d9</td>\n",
       "      <td>1.0</td>\n",
       "      <td>0.0</td>\n",
       "      <td>2</td>\n",
       "      <td>benign</td>\n",
       "      <td>6140.0</td>\n",
       "    </tr>\n",
       "    <tr>\n",
       "      <th>2</th>\n",
       "      <td>b35d8e1757e938d5520dfd99ff8e0174</td>\n",
       "      <td>0.0</td>\n",
       "      <td>0.0</td>\n",
       "      <td>6</td>\n",
       "      <td>non-neoplastic</td>\n",
       "      <td>3999.0</td>\n",
       "    </tr>\n",
       "    <tr>\n",
       "      <th>3</th>\n",
       "      <td>1f3a8a1749c71d9fa471df71f6023a07</td>\n",
       "      <td>0.0</td>\n",
       "      <td>0.0</td>\n",
       "      <td>3</td>\n",
       "      <td>non-neoplastic</td>\n",
       "      <td>3165.0</td>\n",
       "    </tr>\n",
       "    <tr>\n",
       "      <th>4</th>\n",
       "      <td>6271a02a044e6a36995a66914c1f0be4</td>\n",
       "      <td>0.0</td>\n",
       "      <td>0.0</td>\n",
       "      <td>3</td>\n",
       "      <td>non-neoplastic</td>\n",
       "      <td>12840.0</td>\n",
       "    </tr>\n",
       "  </tbody>\n",
       "</table>\n",
       "</div>"
      ],
      "text/plain": [
       "                            md5hash predicted expected fitzpatrick  \\\n",
       "0  42011fa6b24713fc37c521ff2e50758a       0.0      0.0           3   \n",
       "1  34becf085bc7a8e0a42fe577e90d10d9       1.0      0.0           2   \n",
       "2  b35d8e1757e938d5520dfd99ff8e0174       0.0      0.0           6   \n",
       "3  1f3a8a1749c71d9fa471df71f6023a07       0.0      0.0           3   \n",
       "4  6271a02a044e6a36995a66914c1f0be4       0.0      0.0           3   \n",
       "\n",
       "  three_partition_label    index  \n",
       "0        non-neoplastic  10024.0  \n",
       "1                benign   6140.0  \n",
       "2        non-neoplastic   3999.0  \n",
       "3        non-neoplastic   3165.0  \n",
       "4        non-neoplastic  12840.0  "
      ]
     },
     "execution_count": 27,
     "metadata": {},
     "output_type": "execute_result"
    }
   ],
   "source": [
    "resultDF.head()"
   ]
  },
  {
   "cell_type": "code",
   "execution_count": 28,
   "metadata": {},
   "outputs": [],
   "source": [
    "fitz6 = resultDF[resultDF['fitzpatrick'] == 6]\n",
    "fitz5 = resultDF[resultDF['fitzpatrick'] == 5]\n",
    "fitz4 = resultDF[resultDF['fitzpatrick'] == 4]\n",
    "fitz3 = resultDF[resultDF['fitzpatrick'] == 3]\n",
    "fitz2 = resultDF[resultDF['fitzpatrick'] == 2]\n",
    "fitz1 = resultDF[resultDF['fitzpatrick'] == 1]"
   ]
  },
  {
   "cell_type": "code",
   "execution_count": 53,
   "metadata": {},
   "outputs": [
    {
     "data": {
      "image/png": "[encoded data removed]",
      "text/plain": [
       "<Figure size 432x288 with 2 Axes>"
      ]
     },
     "metadata": {
      "needs_background": "light"
     },
     "output_type": "display_data"
    }
   ],
   "source": [
    "from sklearn.metrics import confusion_matrix, ConfusionMatrixDisplay\n",
    "fitz6Expected = np.array(fitz6['expected'].values, dtype=float)\n",
    "fitz6Predicted = np.array(fitz6['predicted'].values, dtype=float)\n",
    "matrix = confusion_matrix(fitz6Expected, fitz6Predicted, labels=[0, 1, 2], normalize='true')\n",
    "displayMatrix = ConfusionMatrixDisplay(matrix, display_labels=['Non-Neoplastic', 'Benign', 'Malignant'])\n",
    "displayMatrix.plot(cmap='viridis')\n",
    "plt.title('Type 6 Skin Tone Confusion Matrix')\n",
    "plt.show()"
   ]
  },
  {
   "cell_type": "code",
   "execution_count": 54,
   "metadata": {},
   "outputs": [
    {
     "data": {
      "image/png": "[encoded data removed]",
      "text/plain": [
       "<Figure size 432x288 with 2 Axes>"
      ]
     },
     "metadata": {
      "needs_background": "light"
     },
     "output_type": "display_data"
    }
   ],
   "source": [
    "from sklearn.metrics import confusion_matrix, ConfusionMatrixDisplay\n",
    "\n",
    "fitz5Expected = np.array(fitz5['expected'].values, dtype=float)\n",
    "fitz5Predicted = np.array(fitz5['predicted'].values, dtype=float)\n",
    "\n",
    "matrix = confusion_matrix(fitz5Expected, fitz5Predicted, labels=[0, 1, 2], normalize='true')\n",
    "\n",
    "displayMatrix = ConfusionMatrixDisplay(matrix, display_labels=['Non-Neoplastic', 'Benign', 'Malignant'])\n",
    "displayMatrix.plot(cmap='viridis')\n",
    "\n",
    "plt.title('Type 5 Skin Tone Confusion Matrix')\n",
    "plt.show()"
   ]
  },
  {
   "cell_type": "code",
   "execution_count": 55,
   "metadata": {},
   "outputs": [
    {
     "data": {
      "image/png": "[encoded data removed]",
      "text/plain": [
       "<Figure size 432x288 with 2 Axes>"
      ]
     },
     "metadata": {
      "needs_background": "light"
     },
     "output_type": "display_data"
    }
   ],
   "source": [
    "from sklearn.metrics import confusion_matrix, ConfusionMatrixDisplay\n",
    "\n",
    "fitz4Expected = np.array(fitz4['expected'].values, dtype=float)\n",
    "fitz4Predicted = np.array(fitz4['predicted'].values, dtype=float)\n",
    "\n",
    "matrix = confusion_matrix(fitz4Expected, fitz4Predicted, labels=[0, 1, 2], normalize='true')\n",
    "\n",
    "displayMatrix = ConfusionMatrixDisplay(matrix, display_labels=['Non-Neoplastic', 'Benign', 'Malignant'])\n",
    "displayMatrix.plot(cmap='viridis')\n",
    "\n",
    "plt.title('Type 4 Skin Tone Confusion Matrix')\n",
    "plt.show()"
   ]
  },
  {
   "cell_type": "code",
   "execution_count": 56,
   "metadata": {},
   "outputs": [
    {
     "data": {
      "image/png": "[encoded data removed]",
      "text/plain": [
       "<Figure size 432x288 with 2 Axes>"
      ]
     },
     "metadata": {
      "needs_background": "light"
     },
     "output_type": "display_data"
    }
   ],
   "source": [
    "from sklearn.metrics import confusion_matrix, ConfusionMatrixDisplay\n",
    "\n",
    "fitz3Expected = np.array(fitz3['expected'].values, dtype=float)\n",
    "fitz3Predicted = np.array(fitz3['predicted'].values, dtype=float)\n",
    "\n",
    "matrix = confusion_matrix(fitz3Expected, fitz3Predicted, labels=[0, 1, 2], normalize='true')\n",
    "\n",
    "displayMatrix = ConfusionMatrixDisplay(matrix, display_labels=['Non-Neoplastic', 'Benign', 'Malignant'])\n",
    "displayMatrix.plot(cmap='viridis')\n",
    "\n",
    "plt.title('Type 3 Skin Tone Confusion Matrix')\n",
    "plt.show()"
   ]
  },
  {
   "cell_type": "code",
   "execution_count": 57,
   "metadata": {},
   "outputs": [
    {
     "data": {
      "image/png": "[encoded data removed]",
      "text/plain": [
       "<Figure size 432x288 with 2 Axes>"
      ]
     },
     "metadata": {
      "needs_background": "light"
     },
     "output_type": "display_data"
    }
   ],
   "source": [
    "from sklearn.metrics import confusion_matrix, ConfusionMatrixDisplay\n",
    "\n",
    "fitz2Expected = np.array(fitz2['expected'].values, dtype=float)\n",
    "fitz2Predicted = np.array(fitz2['predicted'].values, dtype=float)\n",
    "\n",
    "matrix = confusion_matrix(fitz2Expected, fitz2Predicted, labels=[0, 1, 2], normalize='true')\n",
    "\n",
    "displayMatrix = ConfusionMatrixDisplay(matrix, display_labels=['Non-Neoplastic', 'Benign', 'Malignant'])\n",
    "displayMatrix.plot(cmap='viridis')\n",
    "\n",
    "plt.title('Type 2 Skin Tone Confusion Matrix')\n",
    "plt.show()"
   ]
  },
  {
   "cell_type": "code",
   "execution_count": 58,
   "metadata": {},
   "outputs": [
    {
     "data": {
      "image/png": "[encoded data removed]",
      "text/plain": [
       "<Figure size 432x288 with 2 Axes>"
      ]
     },
     "metadata": {
      "needs_background": "light"
     },
     "output_type": "display_data"
    }
   ],
   "source": [
    "from sklearn.metrics import confusion_matrix, ConfusionMatrixDisplay\n",
    "\n",
    "fitz1Expected = np.array(fitz1['expected'].values, dtype=float)\n",
    "fitz1Predicted = np.array(fitz1['predicted'].values, dtype=float)\n",
    "\n",
    "matrix = confusion_matrix(fitz1Expected, fitz1Predicted, labels=[0, 1, 2], normalize='true')\n",
    "\n",
    "displayMatrix = ConfusionMatrixDisplay(matrix, display_labels=['Non-Neoplastic', 'Benign', 'Malignant'])\n",
    "displayMatrix.plot(cmap='viridis')\n",
    "\n",
    "plt.title('Type 1 Skin Tone Confusion Matrix')\n",
    "plt.show()"
   ]
  }
 ],
 "metadata": {
  "interpreter": {
   "hash": "916dbcbb3f70747c44a77c7bcd40155683ae19c65e1c03b4aa3499c5328201f1"
  },
  "kernelspec": {
   "display_name": "Python 3 (ipykernel)",
   "language": "python",
   "name": "python3"
  },
  "language_info": {
   "codemirror_mode": {
    "name": "ipython",
    "version": 3
   },
   "file_extension": ".py",
   "mimetype": "text/x-python",
   "name": "python",
   "nbconvert_exporter": "python",
   "pygments_lexer": "ipython3",
   "version": "3.8.10"
  }
 },
 "nbformat": 4,
 "nbformat_minor": 2
}
