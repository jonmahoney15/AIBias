{
 "cells": [
  {
   "cell_type": "markdown",
   "metadata": {},
   "source": [
    "# AI Bias in Healthcare"
   ]
  },
  {
   "cell_type": "markdown",
   "metadata": {},
   "source": [
    "### Virginia Polytechnic Institute and State University"
   ]
  },
  {
   "cell_type": "markdown",
   "metadata": {},
   "source": [
    "#### CS-5024 Ethics and Professionalism"
   ]
  },
  {
   "cell_type": "markdown",
   "metadata": {},
   "source": [
    "#### Authors: \n",
    " Diego Espinoza, Rithvik Gottimukkala, Rameshkumar Govindaraju, and Jonathan Mahoney"
   ]
  },
  {
   "cell_type": "markdown",
   "metadata": {},
   "source": [
    "## Reseach"
   ]
  },
  {
   "cell_type": "markdown",
   "metadata": {},
   "source": [
    "### Set up"
   ]
  },
  {
   "cell_type": "markdown",
   "metadata": {},
   "source": [
    "Installing needed python packages"
   ]
  },
  {
   "cell_type": "code",
   "execution_count": 1,
   "metadata": {},
   "outputs": [
    {
     "name": "stdout",
     "output_type": "stream",
     "text": [
      "Requirement already satisfied: matplotlib in /usr/local/lib/python3.8/dist-packages (3.5.1)\n",
      "Requirement already satisfied: sklearn in /usr/local/lib/python3.8/dist-packages (0.0)\n",
      "Requirement already satisfied: pandas in /usr/local/lib/python3.8/dist-packages (1.4.2)\n",
      "Requirement already satisfied: scikit-image in /usr/local/lib/python3.8/dist-packages (0.19.2)\n",
      "Requirement already satisfied: pillow>=6.2.0 in /usr/local/lib/python3.8/dist-packages (from matplotlib) (9.1.0)\n",
      "Requirement already satisfied: kiwisolver>=1.0.1 in /usr/local/lib/python3.8/dist-packages (from matplotlib) (1.4.2)\n",
      "Requirement already satisfied: cycler>=0.10 in /usr/local/lib/python3.8/dist-packages (from matplotlib) (0.11.0)\n",
      "Requirement already satisfied: pyparsing>=2.2.1 in /usr/local/lib/python3.8/dist-packages (from matplotlib) (3.0.8)\n",
      "Requirement already satisfied: python-dateutil>=2.7 in /usr/local/lib/python3.8/dist-packages (from matplotlib) (2.8.2)\n",
      "Requirement already satisfied: numpy>=1.17 in /usr/local/lib/python3.8/dist-packages (from matplotlib) (1.22.3)\n",
      "Requirement already satisfied: packaging>=20.0 in /usr/local/lib/python3.8/dist-packages (from matplotlib) (21.3)\n",
      "Requirement already satisfied: fonttools>=4.22.0 in /usr/local/lib/python3.8/dist-packages (from matplotlib) (4.33.3)\n",
      "Requirement already satisfied: scikit-learn in /usr/local/lib/python3.8/dist-packages (from sklearn) (1.0.2)\n",
      "Requirement already satisfied: pytz>=2020.1 in /usr/local/lib/python3.8/dist-packages (from pandas) (2022.1)\n",
      "Requirement already satisfied: PyWavelets>=1.1.1 in /usr/local/lib/python3.8/dist-packages (from scikit-image) (1.3.0)\n",
      "Requirement already satisfied: imageio>=2.4.1 in /usr/local/lib/python3.8/dist-packages (from scikit-image) (2.18.0)\n",
      "Requirement already satisfied: scipy>=1.4.1 in /usr/local/lib/python3.8/dist-packages (from scikit-image) (1.8.0)\n",
      "Requirement already satisfied: networkx>=2.2 in /usr/local/lib/python3.8/dist-packages (from scikit-image) (2.8)\n",
      "Requirement already satisfied: tifffile>=2019.7.26 in /usr/local/lib/python3.8/dist-packages (from scikit-image) (2022.4.26)\n",
      "Requirement already satisfied: six>=1.5 in /usr/lib/python3/dist-packages (from python-dateutil>=2.7->matplotlib) (1.14.0)\n",
      "Requirement already satisfied: threadpoolctl>=2.0.0 in /usr/local/lib/python3.8/dist-packages (from scikit-learn->sklearn) (3.1.0)\n",
      "Requirement already satisfied: joblib>=0.11 in /usr/local/lib/python3.8/dist-packages (from scikit-learn->sklearn) (1.1.0)\n",
      "Note: you may need to restart the kernel to use updated packages.\n"
     ]
    }
   ],
   "source": [
    "%pip install matplotlib sklearn pandas scikit-image"
   ]
  },
  {
   "cell_type": "code",
   "execution_count": 2,
   "metadata": {},
   "outputs": [],
   "source": [
    "import torchvision as thv\n",
    "import torch \n",
    "from torchvision import models\n",
    "import torch.nn as nn\n",
    "import matplotlib.pyplot as plt\n",
    "import torch.nn as nn\n",
    "import torch.nn.functional as F\n",
    "import torch.optim as optim\n",
    "from torchvision import datasets, transforms, models\n",
    "from torchvision.transforms import ToTensor, Compose, RandomCrop, Resize, Normalize\n",
    "from torch.optim.lr_scheduler import ExponentialLR\n",
    "import random\n",
    "import numpy as np\n",
    "import pandas as pd\n",
    "from sklearn.model_selection import train_test_split\n",
    "from sklearn.metrics import precision_recall_fscore_support, accuracy_score\n",
    "from torch.utils.data import TensorDataset, DataLoader, random_split\n",
    "import matplotlib.pyplot as plt\n",
    "from skimage import io, color\n",
    "import os"
   ]
  },
  {
   "cell_type": "markdown",
   "metadata": {},
   "source": [
    "Checking if GPU is available if so make use of CUDA "
   ]
  },
  {
   "cell_type": "code",
   "execution_count": 3,
   "metadata": {},
   "outputs": [],
   "source": [
    "device = torch.device('cuda' if torch.cuda.is_available() else 'cpu')"
   ]
  },
  {
   "cell_type": "markdown",
   "metadata": {},
   "source": [
    "#### Data Preprocessing"
   ]
  },
  {
   "cell_type": "code",
   "execution_count": 4,
   "metadata": {},
   "outputs": [
    {
     "data": {
      "text/html": [
       "<div>\n",
       "<style scoped>\n",
       "    .dataframe tbody tr th:only-of-type {\n",
       "        vertical-align: middle;\n",
       "    }\n",
       "\n",
       "    .dataframe tbody tr th {\n",
       "        vertical-align: top;\n",
       "    }\n",
       "\n",
       "    .dataframe thead th {\n",
       "        text-align: right;\n",
       "    }\n",
       "</style>\n",
       "<table border=\"1\" class=\"dataframe\">\n",
       "  <thead>\n",
       "    <tr style=\"text-align: right;\">\n",
       "      <th></th>\n",
       "      <th>Unnamed: 0</th>\n",
       "      <th>md5hash</th>\n",
       "      <th>fitzpatrick</th>\n",
       "      <th>label</th>\n",
       "      <th>nine_partition_label</th>\n",
       "      <th>three_partition_label</th>\n",
       "      <th>qc</th>\n",
       "      <th>url</th>\n",
       "      <th>url_alphanum</th>\n",
       "    </tr>\n",
       "  </thead>\n",
       "  <tbody>\n",
       "    <tr>\n",
       "      <th>0</th>\n",
       "      <td>0</td>\n",
       "      <td>5e82a45bc5d78bd24ae9202d194423f8</td>\n",
       "      <td>3</td>\n",
       "      <td>drug induced pigmentary changes</td>\n",
       "      <td>inflammatory</td>\n",
       "      <td>non-neoplastic</td>\n",
       "      <td>NaN</td>\n",
       "      <td>https://www.dermaamin.com/site/images/clinical...</td>\n",
       "      <td>httpwwwdermaamincomsiteimagesclinicalpicmminoc...</td>\n",
       "    </tr>\n",
       "    <tr>\n",
       "      <th>1</th>\n",
       "      <td>1</td>\n",
       "      <td>fa2911a9b13b6f8af79cb700937cc14f</td>\n",
       "      <td>1</td>\n",
       "      <td>photodermatoses</td>\n",
       "      <td>inflammatory</td>\n",
       "      <td>non-neoplastic</td>\n",
       "      <td>NaN</td>\n",
       "      <td>https://www.dermaamin.com/site/images/clinical...</td>\n",
       "      <td>httpwwwdermaamincomsiteimagesclinicalpicpphoto...</td>\n",
       "    </tr>\n",
       "    <tr>\n",
       "      <th>2</th>\n",
       "      <td>2</td>\n",
       "      <td>d2bac3c9e4499032ca8e9b07c7d3bc40</td>\n",
       "      <td>2</td>\n",
       "      <td>dermatofibroma</td>\n",
       "      <td>benign dermal</td>\n",
       "      <td>benign</td>\n",
       "      <td>NaN</td>\n",
       "      <td>https://www.dermaamin.com/site/images/clinical...</td>\n",
       "      <td>httpwwwdermaamincomsiteimagesclinicalpicdderma...</td>\n",
       "    </tr>\n",
       "    <tr>\n",
       "      <th>3</th>\n",
       "      <td>3</td>\n",
       "      <td>0a94359e7eaacd7178e06b2823777789</td>\n",
       "      <td>1</td>\n",
       "      <td>psoriasis</td>\n",
       "      <td>inflammatory</td>\n",
       "      <td>non-neoplastic</td>\n",
       "      <td>NaN</td>\n",
       "      <td>https://www.dermaamin.com/site/images/clinical...</td>\n",
       "      <td>httpwwwdermaamincomsiteimagesclinicalpicppsori...</td>\n",
       "    </tr>\n",
       "    <tr>\n",
       "      <th>4</th>\n",
       "      <td>4</td>\n",
       "      <td>a39ec3b1f22c08a421fa20535e037bba</td>\n",
       "      <td>1</td>\n",
       "      <td>psoriasis</td>\n",
       "      <td>inflammatory</td>\n",
       "      <td>non-neoplastic</td>\n",
       "      <td>NaN</td>\n",
       "      <td>https://www.dermaamin.com/site/images/clinical...</td>\n",
       "      <td>httpwwwdermaamincomsiteimagesclinicalpicppsori...</td>\n",
       "    </tr>\n",
       "  </tbody>\n",
       "</table>\n",
       "</div>"
      ],
      "text/plain": [
       "   Unnamed: 0                           md5hash  fitzpatrick  \\\n",
       "0           0  5e82a45bc5d78bd24ae9202d194423f8            3   \n",
       "1           1  fa2911a9b13b6f8af79cb700937cc14f            1   \n",
       "2           2  d2bac3c9e4499032ca8e9b07c7d3bc40            2   \n",
       "3           3  0a94359e7eaacd7178e06b2823777789            1   \n",
       "4           4  a39ec3b1f22c08a421fa20535e037bba            1   \n",
       "\n",
       "                             label nine_partition_label three_partition_label  \\\n",
       "0  drug induced pigmentary changes         inflammatory        non-neoplastic   \n",
       "1                  photodermatoses         inflammatory        non-neoplastic   \n",
       "2                   dermatofibroma        benign dermal                benign   \n",
       "3                        psoriasis         inflammatory        non-neoplastic   \n",
       "4                        psoriasis         inflammatory        non-neoplastic   \n",
       "\n",
       "    qc                                                url  \\\n",
       "0  NaN  https://www.dermaamin.com/site/images/clinical...   \n",
       "1  NaN  https://www.dermaamin.com/site/images/clinical...   \n",
       "2  NaN  https://www.dermaamin.com/site/images/clinical...   \n",
       "3  NaN  https://www.dermaamin.com/site/images/clinical...   \n",
       "4  NaN  https://www.dermaamin.com/site/images/clinical...   \n",
       "\n",
       "                                        url_alphanum  \n",
       "0  httpwwwdermaamincomsiteimagesclinicalpicmminoc...  \n",
       "1  httpwwwdermaamincomsiteimagesclinicalpicpphoto...  \n",
       "2  httpwwwdermaamincomsiteimagesclinicalpicdderma...  \n",
       "3  httpwwwdermaamincomsiteimagesclinicalpicppsori...  \n",
       "4  httpwwwdermaamincomsiteimagesclinicalpicppsori...  "
      ]
     },
     "execution_count": 4,
     "metadata": {},
     "output_type": "execute_result"
    }
   ],
   "source": [
    "fitzDF = pd.read_csv('./fitzpatrick17k.csv') \n",
    "fitzDF.head(5)"
   ]
  },
  {
   "cell_type": "code",
   "execution_count": 5,
   "metadata": {},
   "outputs": [
    {
     "name": "stdout",
     "output_type": "stream",
     "text": [
      "Percentage of non-neoplastic: 72.87205163781142%\n",
      "Percentage of benign: 13.47650358931049%\n",
      "Percentage of malignant: 13.651444772878085%\n"
     ]
    }
   ],
   "source": [
    "percent_neoplastic = fitzDF[fitzDF['three_partition_label'] == 'non-neoplastic'].count() / fitzDF['three_partition_label'].count() * 100\n",
    "percent_benign = fitzDF[fitzDF['three_partition_label'] == 'benign'].count() / fitzDF['three_partition_label'].count() * 100\n",
    "percent_malignant = fitzDF[fitzDF['three_partition_label'] == 'malignant'].count() / fitzDF['three_partition_label'].count() * 100\n",
    "\n",
    "print('Percentage of non-neoplastic: {}%'.format(percent_neoplastic.three_partition_label))\n",
    "print('Percentage of benign: {}%'.format(percent_benign.three_partition_label))\n",
    "print('Percentage of malignant: {}%'.format(percent_malignant.three_partition_label))\n",
    "\n",
    "labels = 'non-neoplastic', 'benign', 'malignant'\n",
    "sizes = [percent_neoplastic.three_partition_label, percent_benign.three_partition_label, percent_malignant.three_partition_label]\n",
    "explode = (0.1, 0, 0)"
   ]
  },
  {
   "cell_type": "markdown",
   "metadata": {},
   "source": [
    "##### Patient Diagnosis Pie Chart"
   ]
  },
  {
   "cell_type": "code",
   "execution_count": 6,
   "metadata": {},
   "outputs": [
    {
     "data": {
      "image/png": "[encoded data removed]",
      "text/plain": [
       "<Figure size 432x288 with 1 Axes>"
      ]
     },
     "metadata": {},
     "output_type": "display_data"
    }
   ],
   "source": [
    "fig1, ax1 = plt.subplots()\n",
    "ax1.pie(sizes, labels=labels, explode=explode, autopct='%1.1f%%', shadow=True, startangle=90)\n",
    "ax1.axis('equal')\n",
    "\n",
    "plt.show()"
   ]
  },
  {
   "cell_type": "code",
   "execution_count": 7,
   "metadata": {},
   "outputs": [],
   "source": [
    "fitz6 = len(fitzDF[(fitzDF['fitzpatrick'] == 6) & (fitzDF['three_partition_label'] == 'malignant')])\n",
    "fitz5 = len(fitzDF[(fitzDF['fitzpatrick'] == 5) & (fitzDF['three_partition_label'] == 'malignant')])\n",
    "fitz4 = len(fitzDF[(fitzDF['fitzpatrick'] == 4) & (fitzDF['three_partition_label'] == 'malignant')])\n",
    "fitz3 = len(fitzDF[(fitzDF['fitzpatrick'] == 3) & (fitzDF['three_partition_label'] == 'malignant')])\n",
    "fitz2 = len(fitzDF[(fitzDF['fitzpatrick'] == 2) & (fitzDF['three_partition_label'] == 'malignant')])\n",
    "fitz1 = len(fitzDF[(fitzDF['fitzpatrick'] == 1) & (fitzDF['three_partition_label'] == 'malignant')])\n",
    "\n",
    "data = {'fitzpatrick': [6, 5, 4, 3, 2, 1],\n",
    "        'malignant': [fitz6, fitz5, fitz4, fitz3, fitz2, fitz1]}"
   ]
  },
  {
   "cell_type": "code",
   "execution_count": 8,
   "metadata": {},
   "outputs": [
    {
     "data": {
      "image/png": "[encoded data removed]",
      "text/plain": [
       "<Figure size 432x288 with 1 Axes>"
      ]
     },
     "metadata": {
      "needs_background": "light"
     },
     "output_type": "display_data"
    }
   ],
   "source": [
    "plt.bar(data['fitzpatrick'], data['malignant'], width=0.5, color='b')\n",
    "plt.xlabel('Fitzpatrick')\n",
    "plt.ylabel('Number of Malignant')\n",
    "plt.title('Breakdown of Malignant Images')\n",
    "plt.show()"
   ]
  },
  {
   "cell_type": "code",
   "execution_count": 9,
   "metadata": {},
   "outputs": [],
   "source": [
    "malignant_fitzDF = fitzDF[fitzDF['three_partition_label'] == 'malignant']\n",
    "malignantCount = len(malignant_fitzDF)\n",
    "benign = fitzDF[fitzDF['three_partition_label'] == 'benign']\n",
    "benignCount = len(benign)\n",
    "neoplastic = fitzDF[fitzDF['three_partition_label'] == 'non-neoplastic']\n",
    "neoplasticCount = len(neoplastic)"
   ]
  },
  {
   "cell_type": "code",
   "execution_count": 10,
   "metadata": {},
   "outputs": [],
   "source": [
    "indices = fitzDF['Unnamed: 0'].values"
   ]
  },
  {
   "cell_type": "code",
   "execution_count": 11,
   "metadata": {},
   "outputs": [
    {
     "name": "stdout",
     "output_type": "stream",
     "text": [
      "torch.Size([16577, 3, 224, 224])\n"
     ]
    }
   ],
   "source": [
    "transform=transforms.Compose([\n",
    "            transforms.ToPILImage(),\n",
    "            transforms.RandomResizedCrop(size=256, scale=(0.8, 1.0)),\n",
    "            transforms.RandomRotation(degrees=15),\n",
    "            transforms.ColorJitter(),\n",
    "            transforms.RandomHorizontalFlip(),\n",
    "            transforms.CenterCrop(size=224),\n",
    "            transforms.ToTensor(),\n",
    "            transforms.Normalize([0.485, 0.456, 0.406],\n",
    "                                [0.229, 0.224, 0.225])\n",
    "            ])\n",
    "\n",
    "imgListOfTensors = []\n",
    "if os.path.exists('./imgListOfTensors.pt'):\n",
    "    imgListOfTensors = torch.load('./imgListOfTensors.pt')\n",
    "else:\n",
    "    for md5hash in fitzDF.md5hash:\n",
    "        if os.path.exists('./finalfitz17k/' + md5hash + '.jpg'):\n",
    "\n",
    "            img = io.imread('./finalfitz17k/' + md5hash + '.jpg')\n",
    "            if(len(img.shape) < 3):\n",
    "                img = color.gray2rgb(img)\n",
    "            image = transform(img)\n",
    "            imgListOfTensors += [image]\n",
    "        else:\n",
    "            fitzDF = fitzDF.drop(md5hash)\n",
    "    imgListOfTensors = torch.stack(imgListOfTensors)\n",
    "    torch.save(imgListOfTensors, './imgListOfTensors.pt')\n",
    "print(imgListOfTensors.shape)"
   ]
  },
  {
   "cell_type": "code",
   "execution_count": 12,
   "metadata": {},
   "outputs": [],
   "source": [
    "diagnosis = fitzDF.three_partition_label.values\n",
    "\n",
    "tempList = []\n",
    "\n",
    "for i in range(len(diagnosis)):\n",
    "    if diagnosis[i] == 'non-neoplastic':\n",
    "        temp = [1, 0, 0]\n",
    "    elif diagnosis[i] == 'benign':\n",
    "        temp = [0, 1, 0]\n",
    "    elif diagnosis[i] == 'malignant':\n",
    "        temp = [0, 0, 1]\n",
    "    tempList += [temp]\n",
    "diagnosisNP = np.array(tempList)"
   ]
  },
  {
   "cell_type": "code",
   "execution_count": 13,
   "metadata": {},
   "outputs": [],
   "source": [
    "xDataNP = imgListOfTensors.numpy()\n",
    "yDataNP = diagnosisNP\n",
    "X_train, X_test, y_train, y_test, train_indices, test_indices = train_test_split(xDataNP, yDataNP, indices, test_size=0.2, random_state=42)\n",
    "\n",
    "train_data = TensorDataset(torch.from_numpy(X_train).to(device), torch.from_numpy(y_train).to(device))\n",
    "test_data = TensorDataset(torch.from_numpy(X_test).to(device), torch.from_numpy(y_test).to(device))"
   ]
  },
  {
   "cell_type": "code",
   "execution_count": 14,
   "metadata": {},
   "outputs": [],
   "source": [
    "model = models.resnet50(pretrained=True).to(device)\n",
    "\n",
    "for param in model.parameters():\n",
    "    param.requires_grad = False\n",
    "\n",
    "model.fc = nn.Sequential(\n",
    "        nn.Linear(2048, 2048),\n",
    "        nn.ReLU(),\n",
    "        nn.Linear(2048, 3),\n",
    "    ).to(device)"
   ]
  },
  {
   "cell_type": "code",
   "execution_count": 15,
   "metadata": {},
   "outputs": [],
   "source": [
    "EPOCHS = 50\n",
    "batch_size = 64\n",
    "learning_rate = 0.0001\n",
    "\n",
    "criterion = nn.CrossEntropyLoss()\n",
    "optimizer = torch.optim.Adam(model.fc.parameters(), lr=learning_rate)\n",
    "scheduler = torch.optim.lr_scheduler.StepLR(optimizer, step_size=10, gamma=0.1)"
   ]
  },
  {
   "cell_type": "markdown",
   "metadata": {},
   "source": [
    "## Training "
   ]
  },
  {
   "cell_type": "code",
   "execution_count": 16,
   "metadata": {},
   "outputs": [],
   "source": [
    "train_loader = DataLoader(train_data, batch_size=batch_size, shuffle=True, drop_last=True)\n",
    "test_loader = DataLoader(test_data, batch_size=batch_size, shuffle=False, drop_last=True)"
   ]
  },
  {
   "cell_type": "code",
   "execution_count": 17,
   "metadata": {},
   "outputs": [],
   "source": [
    "def Train(model, loader, optimizer, criterion):\n",
    "  epoch_loss = []\n",
    "  epoch_acc = 0\n",
    "\n",
    "  model.train()\n",
    "  for data, labels in loader:\n",
    "    optimizer.zero_grad()\n",
    "\n",
    "    output = model(data)\n",
    "\n",
    "    loss = criterion(output, labels.float())\n",
    "    epoch_loss.append(loss.item())\n",
    "\n",
    "    preds = output.argmax(dim=1)\n",
    "    labels = labels.argmax(dim=1)\n",
    "    epoch_acc += (preds == labels).cpu().sum()\n",
    "\n",
    "    loss.backward()\n",
    "    optimizer.step()\n",
    "    \n",
    "  return np.mean(epoch_loss), epoch_acc / len(loader.dataset)"
   ]
  },
  {
   "cell_type": "code",
   "execution_count": 18,
   "metadata": {},
   "outputs": [],
   "source": [
    "def evaluate(model, loader, criterion, test=False):\n",
    "  epoch_loss = []\n",
    "  epoch_acc = 0\n",
    "  predicted, expected = [], []\n",
    "\n",
    "  model.eval()\n",
    "  with torch.no_grad():\n",
    "    for text, labels in loader:\n",
    "\n",
    "      output = model(text)\n",
    "\n",
    "      loss = criterion(output, labels.float())\n",
    "      epoch_loss.append(loss.item())\n",
    "    \n",
    "      preds = output.argmax(dim=1)\n",
    "      labels = labels.argmax(dim=1)\n",
    "      epoch_acc += (preds == labels).cpu().sum()\n",
    "\n",
    "      predicted.append(preds)\n",
    "      expected.append(labels)\n",
    "\n",
    "  if test:\n",
    "    expected = np.array(torch.cat(expected).cpu(), dtype=float)\n",
    "    predicted = np.array(torch.cat(predicted).cpu(), dtype=float)\n",
    "    precision, recall, fscore, _ = precision_recall_fscore_support(expected, predicted, average='macro')\n",
    "    accuracy = accuracy_score(expected, predicted)\n",
    "    print('Scores:')\n",
    "    print(f'Precision: {precision}, Recall: {recall}, Fscore: {fscore}, Accuracy: {accuracy}')\n",
    "\n",
    "  return predicted, expected"
   ]
  },
  {
   "cell_type": "code",
   "execution_count": 19,
   "metadata": {},
   "outputs": [
    {
     "name": "stdout",
     "output_type": "stream",
     "text": [
      "Epoch: 0 Train Loss: 0.6846761193828307 Train Acc: 0.7412713766098022\n",
      "Epoch: 1 Train Loss: 0.6381468199877347 Train Acc: 0.7571827173233032\n",
      "Epoch: 2 Train Loss: 0.6144900382428929 Train Acc: 0.76502525806427\n",
      "Epoch: 3 Train Loss: 0.596869125602326 Train Acc: 0.7722645401954651\n",
      "Epoch: 4 Train Loss: 0.5854373395730907 Train Acc: 0.7767136693000793\n",
      "Epoch: 5 Train Loss: 0.564798642039875 Train Acc: 0.784631609916687\n",
      "Epoch: 6 Train Loss: 0.5592281068292793 Train Acc: 0.7841037511825562\n",
      "Epoch: 7 Train Loss: 0.5288065307670169 Train Acc: 0.799638032913208\n",
      "Epoch: 8 Train Loss: 0.5080784075502036 Train Acc: 0.8072543740272522\n",
      "Epoch: 9 Train Loss: 0.4956281084369346 Train Acc: 0.8095920085906982\n",
      "Epoch: 10 Train Loss: 0.45114261300667474 Train Acc: 0.83010333776474\n",
      "Epoch: 11 Train Loss: 0.44295279372141555 Train Acc: 0.833798348903656\n",
      "Epoch: 12 Train Loss: 0.43797379688940186 Train Acc: 0.8352311253547668\n",
      "Epoch: 13 Train Loss: 0.433310824315905 Train Acc: 0.8359097838401794\n",
      "Epoch: 14 Train Loss: 0.43206809403527763 Train Acc: 0.8374180197715759\n",
      "Epoch: 15 Train Loss: 0.42966662023378455 Train Acc: 0.8363622426986694\n",
      "Epoch: 16 Train Loss: 0.42757964292586137 Train Acc: 0.8405097723007202\n",
      "Epoch: 17 Train Loss: 0.42353330962899804 Train Acc: 0.8426966071128845\n",
      "Epoch: 18 Train Loss: 0.4189123223369248 Train Acc: 0.8449589014053345\n",
      "Epoch: 19 Train Loss: 0.41719400371618315 Train Acc: 0.8429228663444519\n",
      "Epoch: 20 Train Loss: 0.4124074736655046 Train Acc: 0.847447395324707\n",
      "Epoch: 21 Train Loss: 0.4114130072403645 Train Acc: 0.8478244543075562\n",
      "Epoch: 22 Train Loss: 0.41057949725556486 Train Acc: 0.846542477607727\n",
      "Epoch: 23 Train Loss: 0.4088411577369856 Train Acc: 0.846542477607727\n",
      "Epoch: 24 Train Loss: 0.41038302479734745 Train Acc: 0.8457884192466736\n",
      "Epoch: 25 Train Loss: 0.4097173892789417 Train Acc: 0.8467687368392944\n",
      "Epoch: 26 Train Loss: 0.41041213576344476 Train Acc: 0.8449589014053345\n",
      "Epoch: 27 Train Loss: 0.40887781747297386 Train Acc: 0.8496342897415161\n",
      "Epoch: 28 Train Loss: 0.40912253406024784 Train Acc: 0.8504637479782104\n",
      "Epoch: 29 Train Loss: 0.4084697315370403 Train Acc: 0.8475981950759888\n",
      "Epoch: 30 Train Loss: 0.4076818843250689 Train Acc: 0.8512178659439087\n",
      "Epoch: 31 Train Loss: 0.40983640550127354 Train Acc: 0.8469195365905762\n",
      "Epoch: 32 Train Loss: 0.40843040838045774 Train Acc: 0.8478244543075562\n",
      "Epoch: 33 Train Loss: 0.4086975450245079 Train Acc: 0.8467687368392944\n",
      "Epoch: 34 Train Loss: 0.40639541388133876 Train Acc: 0.8498604893684387\n",
      "Epoch: 35 Train Loss: 0.4052483324987301 Train Acc: 0.847899854183197\n",
      "Epoch: 36 Train Loss: 0.40906793915707135 Train Acc: 0.8464670777320862\n",
      "Epoch: 37 Train Loss: 0.40586145258180184 Train Acc: 0.8509916067123413\n",
      "Epoch: 38 Train Loss: 0.4085394284431485 Train Acc: 0.8479752540588379\n",
      "Epoch: 39 Train Loss: 0.4056460013712086 Train Acc: 0.8509162068367004\n",
      "Epoch: 40 Train Loss: 0.4087939194723028 Train Acc: 0.8491818308830261\n",
      "Epoch: 41 Train Loss: 0.40617056766857845 Train Acc: 0.8486539721488953\n",
      "Epoch: 42 Train Loss: 0.40711676844076256 Train Acc: 0.8479752540588379\n",
      "Epoch: 43 Train Loss: 0.40859668072007127 Train Acc: 0.8468441367149353\n",
      "Epoch: 44 Train Loss: 0.40656569096201284 Train Acc: 0.8484277129173279\n",
      "Epoch: 45 Train Loss: 0.4057412016506932 Train Acc: 0.8518211245536804\n",
      "Epoch: 46 Train Loss: 0.40548868578125313 Train Acc: 0.8490309715270996\n",
      "Epoch: 47 Train Loss: 0.4065202941785112 Train Acc: 0.8489555716514587\n",
      "Epoch: 48 Train Loss: 0.4075140154016191 Train Acc: 0.8506900072097778\n",
      "Epoch: 49 Train Loss: 0.4061742724427854 Train Acc: 0.8482769131660461\n"
     ]
    }
   ],
   "source": [
    "train_loss = []\n",
    "train_acc = []\n",
    "\n",
    "for epoch in range(EPOCHS):\n",
    "  trainEpochLoss, trainEpochAcc = Train(model, train_loader, optimizer, criterion)\n",
    "  train_loss.append(trainEpochLoss)\n",
    "  train_acc.append(trainEpochAcc)\n",
    "  scheduler.step()\n",
    "  print(f'Epoch: {epoch} Train Loss: {trainEpochLoss} Train Acc: {trainEpochAcc}')"
   ]
  },
  {
   "cell_type": "code",
   "execution_count": 20,
   "metadata": {},
   "outputs": [
    {
     "data": {
      "image/png": "[encoded data removed]",
      "text/plain": [
       "<Figure size 432x288 with 1 Axes>"
      ]
     },
     "metadata": {
      "needs_background": "light"
     },
     "output_type": "display_data"
    }
   ],
   "source": [
    "plt.plot(train_loss, label='Train Loss')\n",
    "plt.show()"
   ]
  },
  {
   "cell_type": "code",
   "execution_count": 21,
   "metadata": {},
   "outputs": [
    {
     "data": {
      "image/png": "[encoded data removed]",
      "text/plain": [
       "<Figure size 432x288 with 1 Axes>"
      ]
     },
     "metadata": {
      "needs_background": "light"
     },
     "output_type": "display_data"
    }
   ],
   "source": [
    "plt.plot(train_acc, label='Train Acc')\n",
    "plt.show()"
   ]
  },
  {
   "cell_type": "code",
   "execution_count": 22,
   "metadata": {},
   "outputs": [],
   "source": [
    "torch.cuda.empty_cache()"
   ]
  },
  {
   "cell_type": "code",
   "execution_count": 23,
   "metadata": {},
   "outputs": [
    {
     "name": "stdout",
     "output_type": "stream",
     "text": [
      "Scores:\n",
      "Precision: 0.7093482522398192, Recall: 0.5762461073958263, Fscore: 0.6142004424649153, Accuracy: 0.8020833333333334\n"
     ]
    }
   ],
   "source": [
    "predicted, expected = evaluate(model, test_loader, criterion, test=True)"
   ]
  },
  {
   "cell_type": "code",
   "execution_count": 24,
   "metadata": {},
   "outputs": [
    {
     "data": {
      "image/png": "[encoded data removed]",
      "text/plain": [
       "<Figure size 432x288 with 2 Axes>"
      ]
     },
     "metadata": {
      "needs_background": "light"
     },
     "output_type": "display_data"
    }
   ],
   "source": [
    "from sklearn.metrics import confusion_matrix, ConfusionMatrixDisplay\n",
    "\n",
    "matrix = confusion_matrix(expected, predicted, labels=[0, 1, 2], normalize='true')\n",
    "displayMatrix = ConfusionMatrixDisplay(matrix, display_labels=['Non-Neoplastic', 'Benign', 'Malignant'])\n",
    "displayMatrix.plot(cmap='viridis')\n",
    "plt.title('Confusion Matrix')\n",
    "plt.show()\n"
   ]
  },
  {
   "cell_type": "code",
   "execution_count": 25,
   "metadata": {},
   "outputs": [
    {
     "name": "stderr",
     "output_type": "stream",
     "text": [
      "/tmp/ipykernel_463/3361414818.py:10: UserWarning: Boolean Series key will be reindexed to match DataFrame index.\n",
      "  'md5hash': tempDF[fitzDF['Unnamed: 0'] == indices].md5hash.values[0],\n",
      "/tmp/ipykernel_463/3361414818.py:13: UserWarning: Boolean Series key will be reindexed to match DataFrame index.\n",
      "  'fitzpatrick': tempDF[fitzDF['Unnamed: 0'] == indices].fitzpatrick.values[0],\n",
      "/tmp/ipykernel_463/3361414818.py:14: UserWarning: Boolean Series key will be reindexed to match DataFrame index.\n",
      "  'three_partition_label': tempDF[fitzDF['Unnamed: 0'] == indices].three_partition_label.values[0]\n"
     ]
    }
   ],
   "source": [
    "test_indices = list(test_indices)\n",
    "test_indices.remove(test_indices[len(test_indices) - 1])\n",
    "resultDF = pd.DataFrame(columns=['md5hash', 'predicted', 'expected', 'fitzpatrick', 'three_partition_label'])\n",
    "tempDF = fitzDF[fitzDF['Unnamed: 0'].isin(test_indices)]\n",
    "data = []\n",
    "for index, indices in enumerate(test_indices):\n",
    "    if len(predicted) - 1 >= index:\n",
    "        data.append({\n",
    "            'index': indices,\n",
    "            'md5hash': tempDF[fitzDF['Unnamed: 0'] == indices].md5hash.values[0],\n",
    "            'predicted': predicted[index],\n",
    "            'expected': expected[index],\n",
    "            'fitzpatrick': tempDF[fitzDF['Unnamed: 0'] == indices].fitzpatrick.values[0],\n",
    "            'three_partition_label': tempDF[fitzDF['Unnamed: 0'] == indices].three_partition_label.values[0]\n",
    "        })"
   ]
  },
  {
   "cell_type": "code",
   "execution_count": 27,
   "metadata": {},
   "outputs": [
    {
     "name": "stderr",
     "output_type": "stream",
     "text": [
      "/tmp/ipykernel_463/1548436551.py:1: FutureWarning: The frame.append method is deprecated and will be removed from pandas in a future version. Use pandas.concat instead.\n",
      "  resultDF = resultDF.append(data, ignore_index=True)\n"
     ]
    }
   ],
   "source": [
    "resultDF = resultDF.append(data, ignore_index=True)"
   ]
  },
  {
   "cell_type": "code",
   "execution_count": 28,
   "metadata": {},
   "outputs": [
    {
     "data": {
      "text/html": [
       "<div>\n",
       "<style scoped>\n",
       "    .dataframe tbody tr th:only-of-type {\n",
       "        vertical-align: middle;\n",
       "    }\n",
       "\n",
       "    .dataframe tbody tr th {\n",
       "        vertical-align: top;\n",
       "    }\n",
       "\n",
       "    .dataframe thead th {\n",
       "        text-align: right;\n",
       "    }\n",
       "</style>\n",
       "<table border=\"1\" class=\"dataframe\">\n",
       "  <thead>\n",
       "    <tr style=\"text-align: right;\">\n",
       "      <th></th>\n",
       "      <th>md5hash</th>\n",
       "      <th>predicted</th>\n",
       "      <th>expected</th>\n",
       "      <th>fitzpatrick</th>\n",
       "      <th>three_partition_label</th>\n",
       "      <th>index</th>\n",
       "    </tr>\n",
       "  </thead>\n",
       "  <tbody>\n",
       "    <tr>\n",
       "      <th>0</th>\n",
       "      <td>42011fa6b24713fc37c521ff2e50758a</td>\n",
       "      <td>0.0</td>\n",
       "      <td>0.0</td>\n",
       "      <td>3</td>\n",
       "      <td>non-neoplastic</td>\n",
       "      <td>10024.0</td>\n",
       "    </tr>\n",
       "    <tr>\n",
       "      <th>1</th>\n",
       "      <td>34becf085bc7a8e0a42fe577e90d10d9</td>\n",
       "      <td>1.0</td>\n",
       "      <td>0.0</td>\n",
       "      <td>2</td>\n",
       "      <td>benign</td>\n",
       "      <td>6140.0</td>\n",
       "    </tr>\n",
       "    <tr>\n",
       "      <th>2</th>\n",
       "      <td>b35d8e1757e938d5520dfd99ff8e0174</td>\n",
       "      <td>0.0</td>\n",
       "      <td>0.0</td>\n",
       "      <td>6</td>\n",
       "      <td>non-neoplastic</td>\n",
       "      <td>3999.0</td>\n",
       "    </tr>\n",
       "    <tr>\n",
       "      <th>3</th>\n",
       "      <td>1f3a8a1749c71d9fa471df71f6023a07</td>\n",
       "      <td>0.0</td>\n",
       "      <td>0.0</td>\n",
       "      <td>3</td>\n",
       "      <td>non-neoplastic</td>\n",
       "      <td>3165.0</td>\n",
       "    </tr>\n",
       "    <tr>\n",
       "      <th>4</th>\n",
       "      <td>6271a02a044e6a36995a66914c1f0be4</td>\n",
       "      <td>0.0</td>\n",
       "      <td>0.0</td>\n",
       "      <td>3</td>\n",
       "      <td>non-neoplastic</td>\n",
       "      <td>12840.0</td>\n",
       "    </tr>\n",
       "  </tbody>\n",
       "</table>\n",
       "</div>"
      ],
      "text/plain": [
       "                            md5hash predicted expected fitzpatrick  \\\n",
       "0  42011fa6b24713fc37c521ff2e50758a       0.0      0.0           3   \n",
       "1  34becf085bc7a8e0a42fe577e90d10d9       1.0      0.0           2   \n",
       "2  b35d8e1757e938d5520dfd99ff8e0174       0.0      0.0           6   \n",
       "3  1f3a8a1749c71d9fa471df71f6023a07       0.0      0.0           3   \n",
       "4  6271a02a044e6a36995a66914c1f0be4       0.0      0.0           3   \n",
       "\n",
       "  three_partition_label    index  \n",
       "0        non-neoplastic  10024.0  \n",
       "1                benign   6140.0  \n",
       "2        non-neoplastic   3999.0  \n",
       "3        non-neoplastic   3165.0  \n",
       "4        non-neoplastic  12840.0  "
      ]
     },
     "execution_count": 28,
     "metadata": {},
     "output_type": "execute_result"
    }
   ],
   "source": [
    "resultDF.head()"
   ]
  },
  {
   "cell_type": "code",
   "execution_count": 29,
   "metadata": {},
   "outputs": [],
   "source": [
    "fitz6 = resultDF[resultDF['fitzpatrick'] == 6]\n",
    "fitz5 = resultDF[resultDF['fitzpatrick'] == 5]\n",
    "fitz4 = resultDF[resultDF['fitzpatrick'] == 4]\n",
    "fitz3 = resultDF[resultDF['fitzpatrick'] == 3]\n",
    "fitz2 = resultDF[resultDF['fitzpatrick'] == 2]\n",
    "fitz1 = resultDF[resultDF['fitzpatrick'] == 1]"
   ]
  },
  {
   "cell_type": "code",
   "execution_count": 30,
   "metadata": {},
   "outputs": [
    {
     "data": {
      "image/png": "[encoded data removed]",
      "text/plain": [
       "<Figure size 432x288 with 2 Axes>"
      ]
     },
     "metadata": {
      "needs_background": "light"
     },
     "output_type": "display_data"
    }
   ],
   "source": [
    "from sklearn.metrics import confusion_matrix, ConfusionMatrixDisplay\n",
    "fitz6Expected = np.array(fitz6['predicted'].values, dtype=float)\n",
    "fitz6Predicted = np.array(fitz6['expected'].values, dtype=float)\n",
    "matrix = confusion_matrix(fitz6Expected, fitz6Predicted, labels=[0.0, 1.0, 2.0], normalize='true')\n",
    "displayMatrix = ConfusionMatrixDisplay(matrix, display_labels=['Non-Neoplastic', 'Benign', 'Malignant'])\n",
    "displayMatrix.plot(cmap='viridis')\n",
    "plt.title('Type 6 Skin Tone Confusion Matrix')\n",
    "plt.show()"
   ]
  },
  {
   "cell_type": "code",
   "execution_count": 31,
   "metadata": {},
   "outputs": [
    {
     "data": {
      "image/png": "[encoded data removed]",
      "text/plain": [
       "<Figure size 432x288 with 2 Axes>"
      ]
     },
     "metadata": {
      "needs_background": "light"
     },
     "output_type": "display_data"
    }
   ],
   "source": [
    "from sklearn.metrics import confusion_matrix, ConfusionMatrixDisplay\n",
    "\n",
    "fitz5Expected = np.array(fitz5['predicted'].values, dtype=float)\n",
    "fitz5Predicted = np.array(fitz5['expected'].values, dtype=float)\n",
    "\n",
    "matrix = confusion_matrix(fitz5Expected, fitz5Predicted, labels=[0, 1, 2], normalize='true')\n",
    "\n",
    "displayMatrix = ConfusionMatrixDisplay(matrix, display_labels=['Non-Neoplastic', 'Benign', 'Malignant'])\n",
    "displayMatrix.plot(cmap='viridis')\n",
    "\n",
    "plt.title('Type 5 Skin Tone Confusion Matrix')\n",
    "plt.show()"
   ]
  },
  {
   "cell_type": "code",
   "execution_count": 32,
   "metadata": {},
   "outputs": [
    {
     "data": {
      "image/png": "[encoded data removed]",
      "text/plain": [
       "<Figure size 432x288 with 2 Axes>"
      ]
     },
     "metadata": {
      "needs_background": "light"
     },
     "output_type": "display_data"
    }
   ],
   "source": [
    "from sklearn.metrics import confusion_matrix, ConfusionMatrixDisplay\n",
    "\n",
    "fitz4Expected = np.array(fitz4['predicted'].values, dtype=float)\n",
    "fitz4Predicted = np.array(fitz4['expected'].values, dtype=float)\n",
    "\n",
    "matrix = confusion_matrix(fitz4Expected, fitz4Predicted, labels=[0, 1, 2], normalize='true')\n",
    "\n",
    "displayMatrix = ConfusionMatrixDisplay(matrix, display_labels=['Non-Neoplastic', 'Benign', 'Malignant'])\n",
    "displayMatrix.plot(cmap='viridis')\n",
    "\n",
    "plt.title('Type 4 Skin Tone Confusion Matrix')\n",
    "plt.show()"
   ]
  },
  {
   "cell_type": "code",
   "execution_count": 33,
   "metadata": {},
   "outputs": [
    {
     "data": {
      "image/png": "[encoded data removed]",
      "text/plain": [
       "<Figure size 432x288 with 2 Axes>"
      ]
     },
     "metadata": {
      "needs_background": "light"
     },
     "output_type": "display_data"
    }
   ],
   "source": [
    "from sklearn.metrics import confusion_matrix, ConfusionMatrixDisplay\n",
    "\n",
    "fitz3Expected = np.array(fitz3['predicted'].values, dtype=float)\n",
    "fitz3Predicted = np.array(fitz3['expected'].values, dtype=float)\n",
    "\n",
    "matrix = confusion_matrix(fitz3Expected, fitz3Predicted, labels=[0, 1, 2], normalize='true')\n",
    "\n",
    "displayMatrix = ConfusionMatrixDisplay(matrix, display_labels=['Non-Neoplastic', 'Benign', 'Malignant'])\n",
    "displayMatrix.plot(cmap='viridis')\n",
    "\n",
    "plt.title('Type 3 Skin Tone Confusion Matrix')\n",
    "plt.show()"
   ]
  },
  {
   "cell_type": "code",
   "execution_count": 34,
   "metadata": {},
   "outputs": [
    {
     "data": {
      "image/png": "[encoded data removed]",
      "text/plain": [
       "<Figure size 432x288 with 2 Axes>"
      ]
     },
     "metadata": {
      "needs_background": "light"
     },
     "output_type": "display_data"
    }
   ],
   "source": [
    "from sklearn.metrics import confusion_matrix, ConfusionMatrixDisplay\n",
    "\n",
    "fitz2Expected = np.array(fitz2['predicted'].values, dtype=float)\n",
    "fitz2Predicted = np.array(fitz2['expected'].values, dtype=float)\n",
    "\n",
    "matrix = confusion_matrix(fitz2Expected, fitz2Predicted, labels=[0, 1, 2], normalize='true')\n",
    "\n",
    "displayMatrix = ConfusionMatrixDisplay(matrix, display_labels=['Non-Neoplastic', 'Benign', 'Malignant'])\n",
    "displayMatrix.plot(cmap='viridis')\n",
    "\n",
    "plt.title('Type 2 Skin Tone Confusion Matrix')\n",
    "plt.show()"
   ]
  },
  {
   "cell_type": "code",
   "execution_count": 35,
   "metadata": {},
   "outputs": [
    {
     "data": {
      "image/png": "[encoded data removed]",
      "text/plain": [
       "<Figure size 432x288 with 2 Axes>"
      ]
     },
     "metadata": {
      "needs_background": "light"
     },
     "output_type": "display_data"
    }
   ],
   "source": [
    "from sklearn.metrics import confusion_matrix, ConfusionMatrixDisplay\n",
    "\n",
    "fitz1Expected = np.array(fitz1['predicted'].values, dtype=float)\n",
    "fitz1Predicted = np.array(fitz1['expected'].values, dtype=float)\n",
    "\n",
    "matrix = confusion_matrix(fitz1Expected, fitz1Predicted, labels=[0, 1, 2], normalize='true')\n",
    "\n",
    "displayMatrix = ConfusionMatrixDisplay(matrix, display_labels=['Non-Neoplastic', 'Benign', 'Malignant'])\n",
    "displayMatrix.plot(cmap='viridis')\n",
    "\n",
    "plt.title('Type 2 Skin Tone Confusion Matrix')\n",
    "plt.show()"
   ]
  }
 ],
 "metadata": {
  "interpreter": {
   "hash": "916dbcbb3f70747c44a77c7bcd40155683ae19c65e1c03b4aa3499c5328201f1"
  },
  "kernelspec": {
   "display_name": "Python 3 (ipykernel)",
   "language": "python",
   "name": "python3"
  },
  "language_info": {
   "codemirror_mode": {
    "name": "ipython",
    "version": 3
   },
   "file_extension": ".py",
   "mimetype": "text/x-python",
   "name": "python",
   "nbconvert_exporter": "python",
   "pygments_lexer": "ipython3",
   "version": "3.8.10"
  }
 },
 "nbformat": 4,
 "nbformat_minor": 2
}
