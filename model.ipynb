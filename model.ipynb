{
 "cells": [
  {
   "cell_type": "code",
   "execution_count": 70,
   "metadata": {},
   "outputs": [
    {
     "name": "stdout",
     "output_type": "stream",
     "text": [
      "Requirement already satisfied: matplotlib in /usr/local/lib/python3.8/dist-packages (3.5.1)\n",
      "Requirement already satisfied: sklearn in /usr/local/lib/python3.8/dist-packages (0.0)\n",
      "Requirement already satisfied: pandas in /usr/local/lib/python3.8/dist-packages (1.4.2)\n",
      "Requirement already satisfied: scikit-image in /usr/local/lib/python3.8/dist-packages (0.19.2)\n",
      "Requirement already satisfied: kiwisolver>=1.0.1 in /usr/local/lib/python3.8/dist-packages (from matplotlib) (1.4.2)\n",
      "Requirement already satisfied: pyparsing>=2.2.1 in /usr/local/lib/python3.8/dist-packages (from matplotlib) (3.0.8)\n",
      "Requirement already satisfied: numpy>=1.17 in /usr/local/lib/python3.8/dist-packages (from matplotlib) (1.22.3)\n",
      "Requirement already satisfied: python-dateutil>=2.7 in /usr/local/lib/python3.8/dist-packages (from matplotlib) (2.8.2)\n",
      "Requirement already satisfied: fonttools>=4.22.0 in /usr/local/lib/python3.8/dist-packages (from matplotlib) (4.33.2)\n",
      "Requirement already satisfied: packaging>=20.0 in /usr/local/lib/python3.8/dist-packages (from matplotlib) (21.3)\n",
      "Requirement already satisfied: pillow>=6.2.0 in /usr/local/lib/python3.8/dist-packages (from matplotlib) (9.1.0)\n",
      "Requirement already satisfied: cycler>=0.10 in /usr/local/lib/python3.8/dist-packages (from matplotlib) (0.11.0)\n",
      "Requirement already satisfied: scikit-learn in /usr/local/lib/python3.8/dist-packages (from sklearn) (1.0.2)\n",
      "Requirement already satisfied: pytz>=2020.1 in /usr/local/lib/python3.8/dist-packages (from pandas) (2022.1)\n",
      "Requirement already satisfied: PyWavelets>=1.1.1 in /usr/local/lib/python3.8/dist-packages (from scikit-image) (1.3.0)\n",
      "Requirement already satisfied: scipy>=1.4.1 in /usr/local/lib/python3.8/dist-packages (from scikit-image) (1.8.0)\n",
      "Requirement already satisfied: tifffile>=2019.7.26 in /usr/local/lib/python3.8/dist-packages (from scikit-image) (2022.4.22)\n",
      "Requirement already satisfied: imageio>=2.4.1 in /usr/local/lib/python3.8/dist-packages (from scikit-image) (2.17.0)\n",
      "Requirement already satisfied: networkx>=2.2 in /usr/local/lib/python3.8/dist-packages (from scikit-image) (2.8)\n",
      "Requirement already satisfied: six>=1.5 in /usr/lib/python3/dist-packages (from python-dateutil>=2.7->matplotlib) (1.14.0)\n",
      "Requirement already satisfied: joblib>=0.11 in /usr/local/lib/python3.8/dist-packages (from scikit-learn->sklearn) (1.1.0)\n",
      "Requirement already satisfied: threadpoolctl>=2.0.0 in /usr/local/lib/python3.8/dist-packages (from scikit-learn->sklearn) (3.1.0)\n",
      "Note: you may need to restart the kernel to use updated packages.\n"
     ]
    }
   ],
   "source": [
    "%pip install matplotlib sklearn pandas scikit-image"
   ]
  },
  {
   "cell_type": "code",
   "execution_count": 71,
   "metadata": {},
   "outputs": [],
   "source": [
    "import torchvision as thv\n",
    "import torch \n",
    "from torchvision import models\n",
    "import torch.nn as nn\n",
    "import matplotlib.pyplot as plt\n",
    "import torch.nn as nn\n",
    "import torch.nn.functional as F\n",
    "import torch.optim as optim\n",
    "from torchvision import datasets, transforms, models\n",
    "from torchvision.transforms import ToTensor, Compose, RandomCrop, Resize, Normalize\n",
    "from torch.optim.lr_scheduler import ExponentialLR\n",
    "import random\n",
    "import numpy as np\n",
    "import pandas as pd\n",
    "from sklearn.model_selection import train_test_split\n",
    "from sklearn.metrics import precision_recall_fscore_support, accuracy_score\n",
    "from torch.utils.data import TensorDataset, DataLoader, random_split\n",
    "import matplotlib.pyplot as plt\n",
    "from skimage import io, color\n",
    "import os\n"
   ]
  },
  {
   "cell_type": "code",
   "execution_count": 72,
   "metadata": {},
   "outputs": [],
   "source": [
    "device = torch.device('cuda' if torch.cuda.is_available() else 'cpu')"
   ]
  },
  {
   "cell_type": "code",
   "execution_count": 73,
   "metadata": {},
   "outputs": [
    {
     "data": {
      "text/html": [
       "<div>\n",
       "<style scoped>\n",
       "    .dataframe tbody tr th:only-of-type {\n",
       "        vertical-align: middle;\n",
       "    }\n",
       "\n",
       "    .dataframe tbody tr th {\n",
       "        vertical-align: top;\n",
       "    }\n",
       "\n",
       "    .dataframe thead th {\n",
       "        text-align: right;\n",
       "    }\n",
       "</style>\n",
       "<table border=\"1\" class=\"dataframe\">\n",
       "  <thead>\n",
       "    <tr style=\"text-align: right;\">\n",
       "      <th></th>\n",
       "      <th>Unnamed: 0</th>\n",
       "      <th>md5hash</th>\n",
       "      <th>fitzpatrick</th>\n",
       "      <th>label</th>\n",
       "      <th>nine_partition_label</th>\n",
       "      <th>three_partition_label</th>\n",
       "      <th>qc</th>\n",
       "      <th>url</th>\n",
       "      <th>url_alphanum</th>\n",
       "    </tr>\n",
       "  </thead>\n",
       "  <tbody>\n",
       "    <tr>\n",
       "      <th>0</th>\n",
       "      <td>0</td>\n",
       "      <td>5e82a45bc5d78bd24ae9202d194423f8</td>\n",
       "      <td>3</td>\n",
       "      <td>drug induced pigmentary changes</td>\n",
       "      <td>inflammatory</td>\n",
       "      <td>non-neoplastic</td>\n",
       "      <td>NaN</td>\n",
       "      <td>https://www.dermaamin.com/site/images/clinical...</td>\n",
       "      <td>httpwwwdermaamincomsiteimagesclinicalpicmminoc...</td>\n",
       "    </tr>\n",
       "    <tr>\n",
       "      <th>1</th>\n",
       "      <td>1</td>\n",
       "      <td>fa2911a9b13b6f8af79cb700937cc14f</td>\n",
       "      <td>1</td>\n",
       "      <td>photodermatoses</td>\n",
       "      <td>inflammatory</td>\n",
       "      <td>non-neoplastic</td>\n",
       "      <td>NaN</td>\n",
       "      <td>https://www.dermaamin.com/site/images/clinical...</td>\n",
       "      <td>httpwwwdermaamincomsiteimagesclinicalpicpphoto...</td>\n",
       "    </tr>\n",
       "    <tr>\n",
       "      <th>2</th>\n",
       "      <td>2</td>\n",
       "      <td>d2bac3c9e4499032ca8e9b07c7d3bc40</td>\n",
       "      <td>2</td>\n",
       "      <td>dermatofibroma</td>\n",
       "      <td>benign dermal</td>\n",
       "      <td>benign</td>\n",
       "      <td>NaN</td>\n",
       "      <td>https://www.dermaamin.com/site/images/clinical...</td>\n",
       "      <td>httpwwwdermaamincomsiteimagesclinicalpicdderma...</td>\n",
       "    </tr>\n",
       "    <tr>\n",
       "      <th>3</th>\n",
       "      <td>3</td>\n",
       "      <td>0a94359e7eaacd7178e06b2823777789</td>\n",
       "      <td>1</td>\n",
       "      <td>psoriasis</td>\n",
       "      <td>inflammatory</td>\n",
       "      <td>non-neoplastic</td>\n",
       "      <td>NaN</td>\n",
       "      <td>https://www.dermaamin.com/site/images/clinical...</td>\n",
       "      <td>httpwwwdermaamincomsiteimagesclinicalpicppsori...</td>\n",
       "    </tr>\n",
       "    <tr>\n",
       "      <th>4</th>\n",
       "      <td>4</td>\n",
       "      <td>a39ec3b1f22c08a421fa20535e037bba</td>\n",
       "      <td>1</td>\n",
       "      <td>psoriasis</td>\n",
       "      <td>inflammatory</td>\n",
       "      <td>non-neoplastic</td>\n",
       "      <td>NaN</td>\n",
       "      <td>https://www.dermaamin.com/site/images/clinical...</td>\n",
       "      <td>httpwwwdermaamincomsiteimagesclinicalpicppsori...</td>\n",
       "    </tr>\n",
       "  </tbody>\n",
       "</table>\n",
       "</div>"
      ],
      "text/plain": [
       "   Unnamed: 0                           md5hash  fitzpatrick  \\\n",
       "0           0  5e82a45bc5d78bd24ae9202d194423f8            3   \n",
       "1           1  fa2911a9b13b6f8af79cb700937cc14f            1   \n",
       "2           2  d2bac3c9e4499032ca8e9b07c7d3bc40            2   \n",
       "3           3  0a94359e7eaacd7178e06b2823777789            1   \n",
       "4           4  a39ec3b1f22c08a421fa20535e037bba            1   \n",
       "\n",
       "                             label nine_partition_label three_partition_label  \\\n",
       "0  drug induced pigmentary changes         inflammatory        non-neoplastic   \n",
       "1                  photodermatoses         inflammatory        non-neoplastic   \n",
       "2                   dermatofibroma        benign dermal                benign   \n",
       "3                        psoriasis         inflammatory        non-neoplastic   \n",
       "4                        psoriasis         inflammatory        non-neoplastic   \n",
       "\n",
       "    qc                                                url  \\\n",
       "0  NaN  https://www.dermaamin.com/site/images/clinical...   \n",
       "1  NaN  https://www.dermaamin.com/site/images/clinical...   \n",
       "2  NaN  https://www.dermaamin.com/site/images/clinical...   \n",
       "3  NaN  https://www.dermaamin.com/site/images/clinical...   \n",
       "4  NaN  https://www.dermaamin.com/site/images/clinical...   \n",
       "\n",
       "                                        url_alphanum  \n",
       "0  httpwwwdermaamincomsiteimagesclinicalpicmminoc...  \n",
       "1  httpwwwdermaamincomsiteimagesclinicalpicpphoto...  \n",
       "2  httpwwwdermaamincomsiteimagesclinicalpicdderma...  \n",
       "3  httpwwwdermaamincomsiteimagesclinicalpicppsori...  \n",
       "4  httpwwwdermaamincomsiteimagesclinicalpicppsori...  "
      ]
     },
     "execution_count": 73,
     "metadata": {},
     "output_type": "execute_result"
    }
   ],
   "source": [
    "fitzDF = pd.read_csv('./fitzpatrick17k.csv') \n",
    "fitzDF.head(5)"
   ]
  },
  {
   "cell_type": "code",
   "execution_count": 74,
   "metadata": {},
   "outputs": [
    {
     "name": "stdout",
     "output_type": "stream",
     "text": [
      "torch.Size([16577, 3, 224, 224])\n"
     ]
    }
   ],
   "source": [
    "transform=transforms.Compose([\n",
    "            transforms.ToPILImage(),\n",
    "            transforms.RandomResizedCrop(size=256, scale=(0.8, 1.0)),\n",
    "            transforms.RandomRotation(degrees=15),\n",
    "            transforms.ColorJitter(),\n",
    "            transforms.RandomHorizontalFlip(),\n",
    "            transforms.CenterCrop(size=224),\n",
    "            transforms.ToTensor(),\n",
    "            transforms.Normalize([0.485, 0.456, 0.406],\n",
    "                                [0.229, 0.224, 0.225])\n",
    "            ])\n",
    "\n",
    "imgListOfTensors = []\n",
    "\n",
    "for md5hash in fitzDF.md5hash:\n",
    "    if os.path.exists('./finalfitz17k/' + md5hash + '.jpg'):\n",
    "\n",
    "        img = io.imread('./finalfitz17k/' + md5hash + '.jpg')\n",
    "        if(len(img.shape) < 3):\n",
    "            img = color.gray2rgb(img)\n",
    "        image = transform(img)\n",
    "        imgListOfTensors += [image]\n",
    "    else:\n",
    "        fitzDF = fitzDF.drop(md5hash)\n",
    "imgListOfTensors = torch.stack(imgListOfTensors)\n",
    "print(imgListOfTensors.shape)"
   ]
  },
  {
   "cell_type": "code",
   "execution_count": 75,
   "metadata": {},
   "outputs": [],
   "source": [
    "diagnosis = fitzDF.three_partition_label.values\n",
    "\n",
    "tempList = []\n",
    "\n",
    "for i in range(len(diagnosis)):\n",
    "    if diagnosis[i] == 'non-neoplastic':\n",
    "        temp = [1, 0, 0]\n",
    "    elif diagnosis[i] == 'benign':\n",
    "        temp = [0, 1, 0]\n",
    "    elif diagnosis[i] == 'malignant':\n",
    "        temp = [0, 0, 1]\n",
    "    tempList += [temp]\n",
    "diagnosisNP = np.array(tempList)"
   ]
  },
  {
   "cell_type": "code",
   "execution_count": 76,
   "metadata": {},
   "outputs": [],
   "source": [
    "xDataNP = imgListOfTensors.numpy()\n",
    "yDataNP = diagnosisNP\n",
    "X_train, X_test, y_train, y_test = train_test_split(xDataNP, yDataNP, test_size=0.2, random_state=42)\n",
    "X_train, X_val, y_train, y_val = train_test_split(X_train, y_train, test_size=0.2, random_state=42)\n",
    "\n",
    "train_data = TensorDataset(torch.from_numpy(X_train).to(device), torch.from_numpy(y_train).to(device))\n",
    "val_data = TensorDataset(torch.from_numpy(X_val).to(device), torch.from_numpy(y_val).to(device))\n",
    "test_data = TensorDataset(torch.from_numpy(X_test).to(device), torch.from_numpy(y_test).to(device))"
   ]
  },
  {
   "cell_type": "code",
   "execution_count": 99,
   "metadata": {},
   "outputs": [],
   "source": [
    "model = models.resnet50(pretrained=True).to(device)\n",
    "\n",
    "for param in model.parameters():\n",
    "    param.requires_grad = False\n",
    "\n",
    "model.fc = nn.Sequential(\n",
    "    nn.Linear(2048, 1024),\n",
    "    nn.ReLU(),\n",
    "    nn.Linear(1024, 224),\n",
    "    nn.ReLU(),\n",
    "    nn.Linear(224, 3)).to(device)"
   ]
  },
  {
   "cell_type": "code",
   "execution_count": 100,
   "metadata": {},
   "outputs": [],
   "source": [
    "EPOCHS = 20\n",
    "batch_size = 32\n",
    "learning_rate = 0.0001\n",
    "\n",
    "#model = ResNet()\n",
    "criterion = nn.CrossEntropyLoss()\n",
    "optimizer = torch.optim.Adam(model.fc.parameters(), lr=learning_rate)"
   ]
  },
  {
   "cell_type": "code",
   "execution_count": 79,
   "metadata": {},
   "outputs": [],
   "source": [
    "\n",
    "train_loader = DataLoader(train_data, batch_size=batch_size, shuffle=True, drop_last=True)\n",
    "val_loader = DataLoader(val_data, batch_size=batch_size, shuffle=False, drop_last=True)\n",
    "test_loader = DataLoader(test_data, batch_size=batch_size, shuffle=False, drop_last=True)"
   ]
  },
  {
   "cell_type": "code",
   "execution_count": 80,
   "metadata": {},
   "outputs": [],
   "source": [
    "def Train(model, loader, optimizer, criterion):\n",
    "  epoch_loss = []\n",
    "  model.train()\n",
    "  for data, labels in loader:\n",
    "    optimizer.zero_grad()\n",
    "    predictions = model(data)\n",
    "    loss = criterion(predictions,labels.float())\n",
    "    epoch_loss.append(loss.item())\n",
    "    loss.backward()\n",
    "    optimizer.step()\n",
    "    \n",
    "  return np.mean(epoch_loss)"
   ]
  },
  {
   "cell_type": "code",
   "execution_count": 81,
   "metadata": {},
   "outputs": [],
   "source": [
    "def Validation(model, loader, criterion):\n",
    "  epoch_loss = []\n",
    "  epoch_acc = 0\n",
    "\n",
    "  model.eval()\n",
    "  with torch.no_grad():\n",
    "    for text, labels in loader:\n",
    "      output = model(text)\n",
    "\n",
    "      loss = criterion(output, labels.float())\n",
    "      epoch_loss.append(loss.item())\n",
    "      preds = output.argmax(dim=1)\n",
    "      labels = labels.argmax(dim=1)\n",
    "      epoch_acc += (preds == labels).cpu().sum()\n",
    "\n",
    "  return np.mean(epoch_loss), epoch_acc/len(loader.dataset)"
   ]
  },
  {
   "cell_type": "code",
   "execution_count": 101,
   "metadata": {},
   "outputs": [
    {
     "name": "stdout",
     "output_type": "stream",
     "text": [
      "Epoch: 0 Train Loss: 0.7158800343732459  VAL Loss: 0.6341748081329392 Acc: 0.7663022875785828\n",
      "Epoch: 1 Train Loss: 0.6565161160111788  VAL Loss: 0.6251912055219092 Acc: 0.7602713704109192\n",
      "Epoch: 2 Train Loss: 0.6400229467185963  VAL Loss: 0.6297116966509237 Acc: 0.7655484080314636\n",
      "Epoch: 3 Train Loss: 0.6283923659439894  VAL Loss: 0.6027840830203963 Acc: 0.7674331068992615\n",
      "Epoch: 4 Train Loss: 0.6099928125874153  VAL Loss: 0.6254182348891002 Acc: 0.7644176483154297\n",
      "Epoch: 5 Train Loss: 0.5972508488284857  VAL Loss: 0.5799080449633482 Acc: 0.7708255052566528\n",
      "Epoch: 6 Train Loss: 0.5786811894430495  VAL Loss: 0.5753111961047824 Acc: 0.7757256031036377\n",
      "Epoch: 7 Train Loss: 0.5669099313975101  VAL Loss: 0.6094673421324753 Acc: 0.7779871821403503\n",
      "Epoch: 8 Train Loss: 0.5438740101285572  VAL Loss: 0.5615559056764696 Acc: 0.7813795804977417\n",
      "Epoch: 9 Train Loss: 0.5279873225984256  VAL Loss: 0.5531851482100603 Acc: 0.7885412573814392\n",
      "Epoch: 10 Train Loss: 0.5138147625498181  VAL Loss: 0.6205103993415833 Acc: 0.7436863780021667\n",
      "Epoch: 11 Train Loss: 0.48701436268418935  VAL Loss: 0.555204591373118 Acc: 0.7828872799873352\n",
      "Epoch: 12 Train Loss: 0.47489627317899663  VAL Loss: 0.5860668180919275 Acc: 0.7602713704109192\n",
      "Epoch: 13 Train Loss: 0.4538635750191449  VAL Loss: 0.5604021276642637 Acc: 0.7813795804977417\n",
      "Epoch: 14 Train Loss: 0.43575526539832804  VAL Loss: 0.5679083288442798 Acc: 0.7696946859359741\n",
      "Epoch: 15 Train Loss: 0.4112464774546306  VAL Loss: 0.5491016558030757 Acc: 0.7923105955123901\n",
      "Epoch: 16 Train Loss: 0.39127961363857244  VAL Loss: 0.579553394782834 Acc: 0.7949491143226624\n",
      "Epoch: 17 Train Loss: 0.3863525666589103  VAL Loss: 0.5743516461878289 Acc: 0.7753486633300781\n",
      "Epoch: 18 Train Loss: 0.34831452608288593  VAL Loss: 0.600525488213795 Acc: 0.797210693359375\n",
      "Epoch: 19 Train Loss: 0.33492642488004215  VAL Loss: 0.5830908359550848 Acc: 0.7874104976654053\n"
     ]
    }
   ],
   "source": [
    "train_loss = []\n",
    "val_loss = []\n",
    "val_acc = []\n",
    "\n",
    "for epoch in range(EPOCHS):\n",
    "  trainEpochLoss = Train(model, train_loader, optimizer, criterion)\n",
    "  valEpochLoss, valEpochAcc = Validation(model, val_loader, criterion)\n",
    "  val_loss.append(valEpochLoss)\n",
    "  val_acc.append(valEpochAcc)\n",
    "  train_loss.append(trainEpochLoss)\n",
    "\n",
    "  print(f'Epoch: {epoch} Train Loss: {trainEpochLoss}  VAL Loss: {valEpochLoss} Acc: {valEpochAcc}')"
   ]
  },
  {
   "cell_type": "code",
   "execution_count": 102,
   "metadata": {},
   "outputs": [
    {
     "data": {
      "image/png": "[encoded data removed]",
      "text/plain": [
       "<Figure size 432x288 with 1 Axes>"
      ]
     },
     "metadata": {
      "needs_background": "light"
     },
     "output_type": "display_data"
    }
   ],
   "source": [
    "plt.plot(train_loss, label='Train Loss')\n",
    "plt.plot(val_loss, label='Validation Loss')\n",
    "plt.legend()\n",
    "plt.show()"
   ]
  },
  {
   "cell_type": "code",
   "execution_count": 103,
   "metadata": {},
   "outputs": [
    {
     "data": {
      "image/png": "[encoded data removed]",
      "text/plain": [
       "<Figure size 432x288 with 1 Axes>"
      ]
     },
     "metadata": {
      "needs_background": "light"
     },
     "output_type": "display_data"
    }
   ],
   "source": [
    "plt.plot(val_acc, label='Validation Acc')\n",
    "plt.show()"
   ]
  },
  {
   "cell_type": "code",
   "execution_count": 104,
   "metadata": {},
   "outputs": [],
   "source": [
    "torch.cuda.empty_cache()"
   ]
  }
 ],
 "metadata": {
  "interpreter": {
   "hash": "916dbcbb3f70747c44a77c7bcd40155683ae19c65e1c03b4aa3499c5328201f1"
  },
  "kernelspec": {
   "display_name": "Python 3 (ipykernel)",
   "language": "python",
   "name": "python3"
  },
  "language_info": {
   "codemirror_mode": {
    "name": "ipython",
    "version": 3
   },
   "file_extension": ".py",
   "mimetype": "text/x-python",
   "name": "python",
   "nbconvert_exporter": "python",
   "pygments_lexer": "ipython3",
   "version": "3.8.10"
  }
 },
 "nbformat": 4,
 "nbformat_minor": 2
}
