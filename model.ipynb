{
 "cells": [
  {
   "cell_type": "code",
   "execution_count": 1,
   "metadata": {},
   "outputs": [
    {
     "name": "stdout",
     "output_type": "stream",
     "text": [
      "Requirement already satisfied: matplotlib in /usr/local/lib/python3.8/dist-packages (3.5.1)\n",
      "Requirement already satisfied: sklearn in /usr/local/lib/python3.8/dist-packages (0.0)\n",
      "Requirement already satisfied: pandas in /usr/local/lib/python3.8/dist-packages (1.4.2)\n",
      "Requirement already satisfied: scikit-image in /usr/local/lib/python3.8/dist-packages (0.19.2)\n",
      "Requirement already satisfied: kiwisolver>=1.0.1 in /usr/local/lib/python3.8/dist-packages (from matplotlib) (1.4.2)\n",
      "Requirement already satisfied: packaging>=20.0 in /usr/local/lib/python3.8/dist-packages (from matplotlib) (21.3)\n",
      "Requirement already satisfied: fonttools>=4.22.0 in /usr/local/lib/python3.8/dist-packages (from matplotlib) (4.33.2)\n",
      "Requirement already satisfied: pillow>=6.2.0 in /usr/local/lib/python3.8/dist-packages (from matplotlib) (9.1.0)\n",
      "Requirement already satisfied: numpy>=1.17 in /usr/local/lib/python3.8/dist-packages (from matplotlib) (1.22.3)\n",
      "Requirement already satisfied: pyparsing>=2.2.1 in /usr/local/lib/python3.8/dist-packages (from matplotlib) (3.0.8)\n",
      "Requirement already satisfied: python-dateutil>=2.7 in /usr/local/lib/python3.8/dist-packages (from matplotlib) (2.8.2)\n",
      "Requirement already satisfied: cycler>=0.10 in /usr/local/lib/python3.8/dist-packages (from matplotlib) (0.11.0)\n",
      "Requirement already satisfied: scikit-learn in /usr/local/lib/python3.8/dist-packages (from sklearn) (1.0.2)\n",
      "Requirement already satisfied: pytz>=2020.1 in /usr/local/lib/python3.8/dist-packages (from pandas) (2022.1)\n",
      "Requirement already satisfied: PyWavelets>=1.1.1 in /usr/local/lib/python3.8/dist-packages (from scikit-image) (1.3.0)\n",
      "Requirement already satisfied: networkx>=2.2 in /usr/local/lib/python3.8/dist-packages (from scikit-image) (2.8)\n",
      "Requirement already satisfied: imageio>=2.4.1 in /usr/local/lib/python3.8/dist-packages (from scikit-image) (2.18.0)\n",
      "Requirement already satisfied: scipy>=1.4.1 in /usr/local/lib/python3.8/dist-packages (from scikit-image) (1.8.0)\n",
      "Requirement already satisfied: tifffile>=2019.7.26 in /usr/local/lib/python3.8/dist-packages (from scikit-image) (2022.4.22)\n",
      "Requirement already satisfied: six>=1.5 in /usr/lib/python3/dist-packages (from python-dateutil>=2.7->matplotlib) (1.14.0)\n",
      "Requirement already satisfied: joblib>=0.11 in /usr/local/lib/python3.8/dist-packages (from scikit-learn->sklearn) (1.1.0)\n",
      "Requirement already satisfied: threadpoolctl>=2.0.0 in /usr/local/lib/python3.8/dist-packages (from scikit-learn->sklearn) (3.1.0)\n",
      "Note: you may need to restart the kernel to use updated packages.\n"
     ]
    }
   ],
   "source": [
    "%pip install matplotlib sklearn pandas scikit-image"
   ]
  },
  {
   "cell_type": "code",
   "execution_count": 2,
   "metadata": {},
   "outputs": [],
   "source": [
    "import torchvision as thv\n",
    "import torch \n",
    "from torchvision import models\n",
    "import torch.nn as nn\n",
    "import matplotlib.pyplot as plt\n",
    "import torch.nn as nn\n",
    "import torch.nn.functional as F\n",
    "import torch.optim as optim\n",
    "from torchvision import datasets, transforms, models\n",
    "from torchvision.transforms import ToTensor, Compose, RandomCrop, Resize, Normalize\n",
    "from torch.optim.lr_scheduler import ExponentialLR\n",
    "import random\n",
    "import numpy as np\n",
    "import pandas as pd\n",
    "from sklearn.model_selection import train_test_split\n",
    "from sklearn.metrics import precision_recall_fscore_support, accuracy_score\n",
    "from torch.utils.data import TensorDataset, DataLoader, random_split\n",
    "import matplotlib.pyplot as plt\n",
    "from skimage import io, color\n",
    "import os"
   ]
  },
  {
   "cell_type": "code",
   "execution_count": 3,
   "metadata": {},
   "outputs": [],
   "source": [
    "device = torch.device('cuda' if torch.cuda.is_available() else 'cpu')"
   ]
  },
  {
   "cell_type": "code",
   "execution_count": 4,
   "metadata": {},
   "outputs": [
    {
     "data": {
      "text/html": [
       "<div>\n",
       "<style scoped>\n",
       "    .dataframe tbody tr th:only-of-type {\n",
       "        vertical-align: middle;\n",
       "    }\n",
       "\n",
       "    .dataframe tbody tr th {\n",
       "        vertical-align: top;\n",
       "    }\n",
       "\n",
       "    .dataframe thead th {\n",
       "        text-align: right;\n",
       "    }\n",
       "</style>\n",
       "<table border=\"1\" class=\"dataframe\">\n",
       "  <thead>\n",
       "    <tr style=\"text-align: right;\">\n",
       "      <th></th>\n",
       "      <th>Unnamed: 0</th>\n",
       "      <th>md5hash</th>\n",
       "      <th>fitzpatrick</th>\n",
       "      <th>label</th>\n",
       "      <th>nine_partition_label</th>\n",
       "      <th>three_partition_label</th>\n",
       "      <th>qc</th>\n",
       "      <th>url</th>\n",
       "      <th>url_alphanum</th>\n",
       "    </tr>\n",
       "  </thead>\n",
       "  <tbody>\n",
       "    <tr>\n",
       "      <th>0</th>\n",
       "      <td>0</td>\n",
       "      <td>5e82a45bc5d78bd24ae9202d194423f8</td>\n",
       "      <td>3</td>\n",
       "      <td>drug induced pigmentary changes</td>\n",
       "      <td>inflammatory</td>\n",
       "      <td>non-neoplastic</td>\n",
       "      <td>NaN</td>\n",
       "      <td>https://www.dermaamin.com/site/images/clinical...</td>\n",
       "      <td>httpwwwdermaamincomsiteimagesclinicalpicmminoc...</td>\n",
       "    </tr>\n",
       "    <tr>\n",
       "      <th>1</th>\n",
       "      <td>1</td>\n",
       "      <td>fa2911a9b13b6f8af79cb700937cc14f</td>\n",
       "      <td>1</td>\n",
       "      <td>photodermatoses</td>\n",
       "      <td>inflammatory</td>\n",
       "      <td>non-neoplastic</td>\n",
       "      <td>NaN</td>\n",
       "      <td>https://www.dermaamin.com/site/images/clinical...</td>\n",
       "      <td>httpwwwdermaamincomsiteimagesclinicalpicpphoto...</td>\n",
       "    </tr>\n",
       "    <tr>\n",
       "      <th>2</th>\n",
       "      <td>2</td>\n",
       "      <td>d2bac3c9e4499032ca8e9b07c7d3bc40</td>\n",
       "      <td>2</td>\n",
       "      <td>dermatofibroma</td>\n",
       "      <td>benign dermal</td>\n",
       "      <td>benign</td>\n",
       "      <td>NaN</td>\n",
       "      <td>https://www.dermaamin.com/site/images/clinical...</td>\n",
       "      <td>httpwwwdermaamincomsiteimagesclinicalpicdderma...</td>\n",
       "    </tr>\n",
       "    <tr>\n",
       "      <th>3</th>\n",
       "      <td>3</td>\n",
       "      <td>0a94359e7eaacd7178e06b2823777789</td>\n",
       "      <td>1</td>\n",
       "      <td>psoriasis</td>\n",
       "      <td>inflammatory</td>\n",
       "      <td>non-neoplastic</td>\n",
       "      <td>NaN</td>\n",
       "      <td>https://www.dermaamin.com/site/images/clinical...</td>\n",
       "      <td>httpwwwdermaamincomsiteimagesclinicalpicppsori...</td>\n",
       "    </tr>\n",
       "    <tr>\n",
       "      <th>4</th>\n",
       "      <td>4</td>\n",
       "      <td>a39ec3b1f22c08a421fa20535e037bba</td>\n",
       "      <td>1</td>\n",
       "      <td>psoriasis</td>\n",
       "      <td>inflammatory</td>\n",
       "      <td>non-neoplastic</td>\n",
       "      <td>NaN</td>\n",
       "      <td>https://www.dermaamin.com/site/images/clinical...</td>\n",
       "      <td>httpwwwdermaamincomsiteimagesclinicalpicppsori...</td>\n",
       "    </tr>\n",
       "  </tbody>\n",
       "</table>\n",
       "</div>"
      ],
      "text/plain": [
       "   Unnamed: 0                           md5hash  fitzpatrick  \\\n",
       "0           0  5e82a45bc5d78bd24ae9202d194423f8            3   \n",
       "1           1  fa2911a9b13b6f8af79cb700937cc14f            1   \n",
       "2           2  d2bac3c9e4499032ca8e9b07c7d3bc40            2   \n",
       "3           3  0a94359e7eaacd7178e06b2823777789            1   \n",
       "4           4  a39ec3b1f22c08a421fa20535e037bba            1   \n",
       "\n",
       "                             label nine_partition_label three_partition_label  \\\n",
       "0  drug induced pigmentary changes         inflammatory        non-neoplastic   \n",
       "1                  photodermatoses         inflammatory        non-neoplastic   \n",
       "2                   dermatofibroma        benign dermal                benign   \n",
       "3                        psoriasis         inflammatory        non-neoplastic   \n",
       "4                        psoriasis         inflammatory        non-neoplastic   \n",
       "\n",
       "    qc                                                url  \\\n",
       "0  NaN  https://www.dermaamin.com/site/images/clinical...   \n",
       "1  NaN  https://www.dermaamin.com/site/images/clinical...   \n",
       "2  NaN  https://www.dermaamin.com/site/images/clinical...   \n",
       "3  NaN  https://www.dermaamin.com/site/images/clinical...   \n",
       "4  NaN  https://www.dermaamin.com/site/images/clinical...   \n",
       "\n",
       "                                        url_alphanum  \n",
       "0  httpwwwdermaamincomsiteimagesclinicalpicmminoc...  \n",
       "1  httpwwwdermaamincomsiteimagesclinicalpicpphoto...  \n",
       "2  httpwwwdermaamincomsiteimagesclinicalpicdderma...  \n",
       "3  httpwwwdermaamincomsiteimagesclinicalpicppsori...  \n",
       "4  httpwwwdermaamincomsiteimagesclinicalpicppsori...  "
      ]
     },
     "execution_count": 4,
     "metadata": {},
     "output_type": "execute_result"
    }
   ],
   "source": [
    "fitzDF = pd.read_csv('./fitzpatrick17k.csv') \n",
    "fitzDF.head(5)"
   ]
  },
  {
   "cell_type": "code",
   "execution_count": 5,
   "metadata": {},
   "outputs": [],
   "source": [
    "#check how many unique labels there are\n",
    "len(fitzDF['label'].unique())\n",
    "\n",
    "#check how many rows fitzDF has fitzpatrick with value 6 and a three_partition_label with value of 'malignant'\n",
    "fitz6 = len(fitzDF[(fitzDF['fitzpatrick'] == 6) & (fitzDF['three_partition_label'] == 'malignant')])\n",
    "fitz5 = len(fitzDF[(fitzDF['fitzpatrick'] == 5) & (fitzDF['three_partition_label'] == 'malignant')])\n",
    "fitz4 = len(fitzDF[(fitzDF['fitzpatrick'] == 4) & (fitzDF['three_partition_label'] == 'malignant')])\n",
    "fitz3 = len(fitzDF[(fitzDF['fitzpatrick'] == 3) & (fitzDF['three_partition_label'] == 'malignant')])\n",
    "fitz2 = len(fitzDF[(fitzDF['fitzpatrick'] == 2) & (fitzDF['three_partition_label'] == 'malignant')])\n",
    "fitz1 = len(fitzDF[(fitzDF['fitzpatrick'] == 1) & (fitzDF['three_partition_label'] == 'malignant')])\n",
    "\n",
    "data = {'fitzpatrick': [6, 5, 4, 3, 2, 1],\n",
    "        'malignant': [fitz6, fitz5, fitz4, fitz3, fitz2, fitz1]}"
   ]
  },
  {
   "cell_type": "code",
   "execution_count": 6,
   "metadata": {},
   "outputs": [
    {
     "data": {
      "image/png": "[encoded data removed]",
      "text/plain": [
       "<Figure size 432x288 with 1 Axes>"
      ]
     },
     "metadata": {
      "needs_background": "light"
     },
     "output_type": "display_data"
    }
   ],
   "source": [
    "plt.bar(data['fitzpatrick'], data['malignant'], width=0.5, color='b')\n",
    "plt.xlabel('Fitzpatrick')\n",
    "plt.ylabel('Number of Malignant')\n",
    "plt.title('Breakdown of Malignant Images')\n",
    "plt.show()"
   ]
  },
  {
   "cell_type": "code",
   "execution_count": 7,
   "metadata": {},
   "outputs": [],
   "source": [
    "malignant_fitzDF = fitzDF[fitzDF['three_partition_label'] == 'malignant']\n",
    "malignantCount = len(malignant_fitzDF)\n",
    "benign = fitzDF[fitzDF['three_partition_label'] == 'benign']\n",
    "benignCount = len(benign)\n",
    "neoplastic = fitzDF[fitzDF['three_partition_label'] == 'non-neoplastic']\n",
    "neoplasticCount = len(neoplastic)"
   ]
  },
  {
   "cell_type": "code",
   "execution_count": 8,
   "metadata": {},
   "outputs": [],
   "source": [
    "indices = np.arange(len(fitzDF))"
   ]
  },
  {
   "cell_type": "code",
   "execution_count": 9,
   "metadata": {},
   "outputs": [
    {
     "name": "stdout",
     "output_type": "stream",
     "text": [
      "torch.Size([16577, 3, 224, 224])\n"
     ]
    }
   ],
   "source": [
    "transform=transforms.Compose([\n",
    "            transforms.ToPILImage(),\n",
    "            transforms.RandomResizedCrop(size=256, scale=(0.8, 1.0)),\n",
    "            transforms.RandomRotation(degrees=15),\n",
    "            transforms.ColorJitter(),\n",
    "            transforms.RandomHorizontalFlip(),\n",
    "            transforms.CenterCrop(size=224),\n",
    "            transforms.ToTensor(),\n",
    "            transforms.Normalize([0.485, 0.456, 0.406],\n",
    "                                [0.229, 0.224, 0.225])\n",
    "            ])\n",
    "\n",
    "imgListOfTensors = []\n",
    "\n",
    "for md5hash in fitzDF.md5hash:\n",
    "    if os.path.exists('./finalfitz17k/' + md5hash + '.jpg'):\n",
    "\n",
    "        img = io.imread('./finalfitz17k/' + md5hash + '.jpg')\n",
    "        if(len(img.shape) < 3):\n",
    "            img = color.gray2rgb(img)\n",
    "        image = transform(img)\n",
    "        imgListOfTensors += [image]\n",
    "    else:\n",
    "        fitzDF = fitzDF.drop(md5hash)\n",
    "imgListOfTensors = torch.stack(imgListOfTensors)\n",
    "print(imgListOfTensors.shape)"
   ]
  },
  {
   "cell_type": "code",
   "execution_count": 10,
   "metadata": {},
   "outputs": [],
   "source": [
    "diagnosis = fitzDF.three_partition_label.values\n",
    "\n",
    "tempList = []\n",
    "\n",
    "for i in range(len(diagnosis)):\n",
    "    if diagnosis[i] == 'non-neoplastic':\n",
    "        temp = [1, 0, 0]\n",
    "    elif diagnosis[i] == 'benign':\n",
    "        temp = [0, 1, 0]\n",
    "    elif diagnosis[i] == 'malignant':\n",
    "        temp = [0, 0, 1]\n",
    "    tempList += [temp]\n",
    "diagnosisNP = np.array(tempList)"
   ]
  },
  {
   "cell_type": "code",
   "execution_count": 11,
   "metadata": {},
   "outputs": [],
   "source": [
    "xDataNP = imgListOfTensors.numpy()\n",
    "yDataNP = diagnosisNP\n",
    "X_train, X_test, y_train, y_test, train_indices, test_indices = train_test_split(xDataNP, yDataNP, indices, test_size=0.2, random_state=42)\n",
    "\n",
    "train_data = TensorDataset(torch.from_numpy(X_train).to(device), torch.from_numpy(y_train).to(device))\n",
    "test_data = TensorDataset(torch.from_numpy(X_test).to(device), torch.from_numpy(y_test).to(device))"
   ]
  },
  {
   "cell_type": "code",
   "execution_count": 12,
   "metadata": {},
   "outputs": [],
   "source": [
    "model = models.resnet50(pretrained=True).to(device)\n",
    "\n",
    "for param in model.parameters():\n",
    "    param.requires_grad = False\n",
    "\n",
    "model.fc = nn.Sequential(\n",
    "    nn.Linear(2048, 256),\n",
    "    nn.ReLU(),\n",
    "    nn.Dropout(0.4),\n",
    "    nn.Linear(256, 3),\n",
    "    ).to(device)"
   ]
  },
  {
   "cell_type": "code",
   "execution_count": 13,
   "metadata": {},
   "outputs": [],
   "source": [
    "EPOCHS = 50\n",
    "batch_size = 128\n",
    "learning_rate = 0.001\n",
    "\n",
    "criterion = nn.CrossEntropyLoss()\n",
    "optimizer = torch.optim.Adam(model.fc.parameters(), lr=learning_rate)"
   ]
  },
  {
   "cell_type": "markdown",
   "metadata": {},
   "source": [
    "# Training "
   ]
  },
  {
   "cell_type": "code",
   "execution_count": 14,
   "metadata": {},
   "outputs": [],
   "source": [
    "train_loader = DataLoader(train_data, batch_size=batch_size, shuffle=True, drop_last=True)\n",
    "test_loader = DataLoader(test_data, batch_size=batch_size, shuffle=False, drop_last=True)"
   ]
  },
  {
   "cell_type": "code",
   "execution_count": 15,
   "metadata": {},
   "outputs": [],
   "source": [
    "def Train(model, loader, optimizer, criterion):\n",
    "  epoch_loss = []\n",
    "  epoch_acc = 0\n",
    "\n",
    "  model.train()\n",
    "  for data, labels in loader:\n",
    "    optimizer.zero_grad()\n",
    "    \n",
    "    output = model(data)\n",
    "    \n",
    "    loss = criterion(output, labels.float())\n",
    "    epoch_loss.append(loss.item())\n",
    "    \n",
    "    preds = output.argmax(dim=1)\n",
    "    labels = labels.argmax(dim=1)\n",
    "    epoch_acc += (preds == labels).cpu().sum()\n",
    "    \n",
    "    loss.backward()\n",
    "    optimizer.step()\n",
    "    \n",
    "  return np.mean(epoch_loss), epoch_acc / len(loader.dataset)"
   ]
  },
  {
   "cell_type": "code",
   "execution_count": 16,
   "metadata": {},
   "outputs": [],
   "source": [
    "def evaluate(model, loader, criterion, test=False):\n",
    "  epoch_loss = []\n",
    "  epoch_acc = 0\n",
    "  predicted, expected = [], []\n",
    "\n",
    "  model.eval()\n",
    "  with torch.no_grad():\n",
    "    for text, labels in loader:\n",
    "\n",
    "      output = model(text)\n",
    "\n",
    "      loss = criterion(output, labels.float())\n",
    "      epoch_loss.append(loss.item())\n",
    "    \n",
    "      preds = output.argmax(dim=1)\n",
    "      labels = labels.argmax(dim=1)\n",
    "      epoch_acc += (preds == labels).cpu().sum()\n",
    "\n",
    "      predicted.append(preds)\n",
    "      expected.append(labels)\n",
    "\n",
    "  if test:\n",
    "    expected = np.array(torch.cat(expected).cpu(), dtype=float)\n",
    "    predicted = np.array(torch.cat(predicted).cpu(), dtype=float)\n",
    "    precision, recall, fscore, _ = precision_recall_fscore_support(expected, predicted, average='macro')\n",
    "    accuracy = accuracy_score(expected, predicted)\n",
    "    print('Scores:')\n",
    "    print(f'Precision: {precision}, Recall: {recall}, Fscore: {fscore}, Accuracy: {accuracy}')\n",
    "\n",
    "  return predicted, expected"
   ]
  },
  {
   "cell_type": "code",
   "execution_count": 17,
   "metadata": {},
   "outputs": [
    {
     "name": "stdout",
     "output_type": "stream",
     "text": [
      "Epoch: 0 Train Loss: 0.7249747856149396 Train Acc: 0.7290551066398621\n",
      "Epoch: 1 Train Loss: 0.667174017545089 Train Acc: 0.7421008944511414\n",
      "Epoch: 2 Train Loss: 0.6528518194133796 Train Acc: 0.7491893768310547\n",
      "Epoch: 3 Train Loss: 0.6382698486152204 Train Acc: 0.7528843879699707\n",
      "Epoch: 4 Train Loss: 0.6383844379661152 Train Acc: 0.7512254118919373\n",
      "Epoch: 5 Train Loss: 0.6270807538796397 Train Acc: 0.7583138346672058\n",
      "Epoch: 6 Train Loss: 0.6204976077797344 Train Acc: 0.7605761289596558\n",
      "Epoch: 7 Train Loss: 0.6233662960020084 Train Acc: 0.7589925527572632\n",
      "Epoch: 8 Train Loss: 0.6153372529062252 Train Acc: 0.759520411491394\n",
      "Epoch: 9 Train Loss: 0.6111378880959113 Train Acc: 0.7596712112426758\n",
      "Epoch: 10 Train Loss: 0.5980531338927815 Train Acc: 0.7671366930007935\n",
      "Epoch: 11 Train Loss: 0.5944313817811244 Train Acc: 0.7683432698249817\n",
      "Epoch: 12 Train Loss: 0.5924207527660629 Train Acc: 0.7662318348884583\n",
      "Epoch: 13 Train Loss: 0.5887112388911756 Train Acc: 0.7666088342666626\n",
      "Epoch: 14 Train Loss: 0.5867689764036715 Train Acc: 0.7687957286834717\n",
      "Epoch: 15 Train Loss: 0.5786277631532799 Train Acc: 0.7679662108421326\n",
      "Epoch: 16 Train Loss: 0.5759653859925502 Train Acc: 0.7675891518592834\n",
      "Epoch: 17 Train Loss: 0.570762209232571 Train Acc: 0.7749038338661194\n",
      "Epoch: 18 Train Loss: 0.5668230513924534 Train Acc: 0.7729431986808777\n",
      "Epoch: 19 Train Loss: 0.5632785923272661 Train Acc: 0.7773923277854919\n",
      "Epoch: 20 Train Loss: 0.5626950217682181 Train Acc: 0.7763366103172302\n",
      "Epoch: 21 Train Loss: 0.5604295872368859 Train Acc: 0.7751300930976868\n",
      "Epoch: 22 Train Loss: 0.5474642058020657 Train Acc: 0.7789759635925293\n",
      "Epoch: 23 Train Loss: 0.5484623608079929 Train Acc: 0.7819923162460327\n",
      "Epoch: 24 Train Loss: 0.5373788015935027 Train Acc: 0.7840283513069153\n",
      "Epoch: 25 Train Loss: 0.5393565852665206 Train Acc: 0.7807103395462036\n",
      "Epoch: 26 Train Loss: 0.5383649963198356 Train Acc: 0.7838775515556335\n",
      "Epoch: 27 Train Loss: 0.5406089028687153 Train Acc: 0.7816152572631836\n",
      "Epoch: 28 Train Loss: 0.5389075377612438 Train Acc: 0.7822185158729553\n",
      "Epoch: 29 Train Loss: 0.5312796316100555 Train Acc: 0.7825201749801636\n",
      "Epoch: 30 Train Loss: 0.5274014279101659 Train Acc: 0.7856873273849487\n",
      "Epoch: 31 Train Loss: 0.5173971438870847 Train Acc: 0.7874971628189087\n",
      "Epoch: 32 Train Loss: 0.5199895420120758 Train Acc: 0.7849332690238953\n",
      "Epoch: 33 Train Loss: 0.5159502949529481 Train Acc: 0.7865168452262878\n",
      "Epoch: 34 Train Loss: 0.5066120479870768 Train Acc: 0.7940577864646912\n",
      "Epoch: 35 Train Loss: 0.5018566716643214 Train Acc: 0.7942085862159729\n",
      "Epoch: 36 Train Loss: 0.5030838222179598 Train Acc: 0.7943593859672546\n",
      "Epoch: 37 Train Loss: 0.4952780520453036 Train Acc: 0.7969232797622681\n",
      "Epoch: 38 Train Loss: 0.5080143806425114 Train Acc: 0.7887037396430969\n",
      "Epoch: 39 Train Loss: 0.48806539843383345 Train Acc: 0.7969232797622681\n",
      "Epoch: 40 Train Loss: 0.49142829364943275 Train Acc: 0.7994118332862854\n",
      "Epoch: 41 Train Loss: 0.49328942958591054 Train Acc: 0.7942839860916138\n",
      "Epoch: 42 Train Loss: 0.4830798923390583 Train Acc: 0.8008446097373962\n",
      "Epoch: 43 Train Loss: 0.47433236935763684 Train Acc: 0.8015232682228088\n",
      "Epoch: 44 Train Loss: 0.4753397902817402 Train Acc: 0.7963200211524963\n",
      "Epoch: 45 Train Loss: 0.4693201328944234 Train Acc: 0.7997888326644897\n",
      "Epoch: 46 Train Loss: 0.47848138010617597 Train Acc: 0.7963200211524963\n",
      "Epoch: 47 Train Loss: 0.48209521174430847 Train Acc: 0.7979790568351746\n",
      "Epoch: 48 Train Loss: 0.4726810892230099 Train Acc: 0.8003166913986206\n",
      "Epoch: 49 Train Loss: 0.4582470276402038 Train Acc: 0.8062740564346313\n"
     ]
    }
   ],
   "source": [
    "train_loss = []\n",
    "train_acc = []\n",
    "\n",
    "for epoch in range(EPOCHS):\n",
    "  trainEpochLoss, trainEpochAcc = Train(model, train_loader, optimizer, criterion)\n",
    "  train_loss.append(trainEpochLoss)\n",
    "  train_acc.append(trainEpochAcc)\n",
    "\n",
    "  print(f'Epoch: {epoch} Train Loss: {trainEpochLoss} Train Acc: {trainEpochAcc}')"
   ]
  },
  {
   "cell_type": "code",
   "execution_count": 18,
   "metadata": {},
   "outputs": [
    {
     "data": {
      "image/png": "[encoded data removed]",
      "text/plain": [
       "<Figure size 432x288 with 1 Axes>"
      ]
     },
     "metadata": {
      "needs_background": "light"
     },
     "output_type": "display_data"
    }
   ],
   "source": [
    "plt.plot(train_loss, label='Train Loss')\n",
    "plt.show()"
   ]
  },
  {
   "cell_type": "code",
   "execution_count": 19,
   "metadata": {},
   "outputs": [
    {
     "data": {
      "image/png": "[encoded data removed]",
      "text/plain": [
       "<Figure size 432x288 with 1 Axes>"
      ]
     },
     "metadata": {
      "needs_background": "light"
     },
     "output_type": "display_data"
    }
   ],
   "source": [
    "plt.plot(train_acc, label='Train Acc')\n",
    "plt.show()"
   ]
  },
  {
   "cell_type": "code",
   "execution_count": 20,
   "metadata": {},
   "outputs": [],
   "source": [
    "torch.cuda.empty_cache()"
   ]
  },
  {
   "cell_type": "code",
   "execution_count": 21,
   "metadata": {},
   "outputs": [
    {
     "name": "stdout",
     "output_type": "stream",
     "text": [
      "Scores:\n",
      "Precision: 0.6643178886811215, Recall: 0.54249873903177, Fscore: 0.5728683654677554, Accuracy: 0.7871875\n"
     ]
    }
   ],
   "source": [
    "predicted, expected = evaluate(model, test_loader, criterion, test=True)"
   ]
  },
  {
   "cell_type": "code",
   "execution_count": 22,
   "metadata": {},
   "outputs": [
    {
     "data": {
      "image/png": "[encoded data removed]",
      "text/plain": [
       "<Figure size 432x288 with 2 Axes>"
      ]
     },
     "metadata": {
      "needs_background": "light"
     },
     "output_type": "display_data"
    }
   ],
   "source": [
    "from sklearn.metrics import confusion_matrix, ConfusionMatrixDisplay\n",
    "\n",
    "matrix = confusion_matrix(expected, predicted, labels=[0, 1, 2], normalize='true')\n",
    "displayMatrix = ConfusionMatrixDisplay(matrix, display_labels=['Non-Neoplastic', 'Benign', 'Malignant'])\n",
    "displayMatrix.plot(cmap='viridis')\n",
    "plt.title('Confusion Matrix')\n",
    "plt.show()\n"
   ]
  },
  {
   "cell_type": "code",
   "execution_count": 23,
   "metadata": {},
   "outputs": [
    {
     "ename": "KeyError",
     "evalue": "False",
     "output_type": "error",
     "traceback": [
      "\u001b[0;31m---------------------------------------------------------------------------\u001b[0m",
      "\u001b[0;31mKeyError\u001b[0m                                  Traceback (most recent call last)",
      "File \u001b[0;32m/usr/local/lib/python3.8/dist-packages/pandas/core/indexes/base.py:3621\u001b[0m, in \u001b[0;36mIndex.get_loc\u001b[0;34m(self, key, method, tolerance)\u001b[0m\n\u001b[1;32m   <a href='file:///usr/local/lib/python3.8/dist-packages/pandas/core/indexes/base.py?line=3619'>3620</a>\u001b[0m \u001b[39mtry\u001b[39;00m:\n\u001b[0;32m-> <a href='file:///usr/local/lib/python3.8/dist-packages/pandas/core/indexes/base.py?line=3620'>3621</a>\u001b[0m     \u001b[39mreturn\u001b[39;00m \u001b[39mself\u001b[39;49m\u001b[39m.\u001b[39;49m_engine\u001b[39m.\u001b[39;49mget_loc(casted_key)\n\u001b[1;32m   <a href='file:///usr/local/lib/python3.8/dist-packages/pandas/core/indexes/base.py?line=3621'>3622</a>\u001b[0m \u001b[39mexcept\u001b[39;00m \u001b[39mKeyError\u001b[39;00m \u001b[39mas\u001b[39;00m err:\n",
      "File \u001b[0;32m/usr/local/lib/python3.8/dist-packages/pandas/_libs/index.pyx:136\u001b[0m, in \u001b[0;36mpandas._libs.index.IndexEngine.get_loc\u001b[0;34m()\u001b[0m\n",
      "File \u001b[0;32m/usr/local/lib/python3.8/dist-packages/pandas/_libs/index.pyx:163\u001b[0m, in \u001b[0;36mpandas._libs.index.IndexEngine.get_loc\u001b[0;34m()\u001b[0m\n",
      "File \u001b[0;32mpandas/_libs/hashtable_class_helper.pxi:5198\u001b[0m, in \u001b[0;36mpandas._libs.hashtable.PyObjectHashTable.get_item\u001b[0;34m()\u001b[0m\n",
      "File \u001b[0;32mpandas/_libs/hashtable_class_helper.pxi:5206\u001b[0m, in \u001b[0;36mpandas._libs.hashtable.PyObjectHashTable.get_item\u001b[0;34m()\u001b[0m\n",
      "\u001b[0;31mKeyError\u001b[0m: False",
      "\nThe above exception was the direct cause of the following exception:\n",
      "\u001b[0;31mKeyError\u001b[0m                                  Traceback (most recent call last)",
      "\u001b[1;32m/home/jon/dev/AIBias/model.ipynb Cell 24'\u001b[0m in \u001b[0;36m<cell line: 2>\u001b[0;34m()\u001b[0m\n\u001b[1;32m      <a href='vscode-notebook-cell:/home/jon/dev/AIBias/model.ipynb#ch0000028?line=0'>1</a>\u001b[0m type6_df \u001b[39m=\u001b[39m []\n\u001b[1;32m      <a href='vscode-notebook-cell:/home/jon/dev/AIBias/model.ipynb#ch0000028?line=1'>2</a>\u001b[0m \u001b[39mfor\u001b[39;00m index, indice \u001b[39min\u001b[39;00m \u001b[39menumerate\u001b[39m(test_indices):\n\u001b[0;32m----> <a href='vscode-notebook-cell:/home/jon/dev/AIBias/model.ipynb#ch0000028?line=2'>3</a>\u001b[0m     \u001b[39mif\u001b[39;00m(predicted[index] \u001b[39m==\u001b[39m \u001b[39m2\u001b[39m \u001b[39mand\u001b[39;00m fitzDF[\u001b[39m'\u001b[39;49m\u001b[39mUnnamed\u001b[39;49m\u001b[39m'\u001b[39;49m \u001b[39m==\u001b[39;49m indice]\u001b[39m.\u001b[39mfitzpatrick \u001b[39m==\u001b[39m \u001b[39m6\u001b[39m):\n\u001b[1;32m      <a href='vscode-notebook-cell:/home/jon/dev/AIBias/model.ipynb#ch0000028?line=3'>4</a>\u001b[0m         type6_df \u001b[39m+\u001b[39m\u001b[39m=\u001b[39m [fitzDF\u001b[39m.\u001b[39miloc[indice]]\n",
      "File \u001b[0;32m/usr/local/lib/python3.8/dist-packages/pandas/core/frame.py:3505\u001b[0m, in \u001b[0;36mDataFrame.__getitem__\u001b[0;34m(self, key)\u001b[0m\n\u001b[1;32m   <a href='file:///usr/local/lib/python3.8/dist-packages/pandas/core/frame.py?line=3502'>3503</a>\u001b[0m \u001b[39mif\u001b[39;00m \u001b[39mself\u001b[39m\u001b[39m.\u001b[39mcolumns\u001b[39m.\u001b[39mnlevels \u001b[39m>\u001b[39m \u001b[39m1\u001b[39m:\n\u001b[1;32m   <a href='file:///usr/local/lib/python3.8/dist-packages/pandas/core/frame.py?line=3503'>3504</a>\u001b[0m     \u001b[39mreturn\u001b[39;00m \u001b[39mself\u001b[39m\u001b[39m.\u001b[39m_getitem_multilevel(key)\n\u001b[0;32m-> <a href='file:///usr/local/lib/python3.8/dist-packages/pandas/core/frame.py?line=3504'>3505</a>\u001b[0m indexer \u001b[39m=\u001b[39m \u001b[39mself\u001b[39;49m\u001b[39m.\u001b[39;49mcolumns\u001b[39m.\u001b[39;49mget_loc(key)\n\u001b[1;32m   <a href='file:///usr/local/lib/python3.8/dist-packages/pandas/core/frame.py?line=3505'>3506</a>\u001b[0m \u001b[39mif\u001b[39;00m is_integer(indexer):\n\u001b[1;32m   <a href='file:///usr/local/lib/python3.8/dist-packages/pandas/core/frame.py?line=3506'>3507</a>\u001b[0m     indexer \u001b[39m=\u001b[39m [indexer]\n",
      "File \u001b[0;32m/usr/local/lib/python3.8/dist-packages/pandas/core/indexes/base.py:3623\u001b[0m, in \u001b[0;36mIndex.get_loc\u001b[0;34m(self, key, method, tolerance)\u001b[0m\n\u001b[1;32m   <a href='file:///usr/local/lib/python3.8/dist-packages/pandas/core/indexes/base.py?line=3620'>3621</a>\u001b[0m     \u001b[39mreturn\u001b[39;00m \u001b[39mself\u001b[39m\u001b[39m.\u001b[39m_engine\u001b[39m.\u001b[39mget_loc(casted_key)\n\u001b[1;32m   <a href='file:///usr/local/lib/python3.8/dist-packages/pandas/core/indexes/base.py?line=3621'>3622</a>\u001b[0m \u001b[39mexcept\u001b[39;00m \u001b[39mKeyError\u001b[39;00m \u001b[39mas\u001b[39;00m err:\n\u001b[0;32m-> <a href='file:///usr/local/lib/python3.8/dist-packages/pandas/core/indexes/base.py?line=3622'>3623</a>\u001b[0m     \u001b[39mraise\u001b[39;00m \u001b[39mKeyError\u001b[39;00m(key) \u001b[39mfrom\u001b[39;00m \u001b[39merr\u001b[39;00m\n\u001b[1;32m   <a href='file:///usr/local/lib/python3.8/dist-packages/pandas/core/indexes/base.py?line=3623'>3624</a>\u001b[0m \u001b[39mexcept\u001b[39;00m \u001b[39mTypeError\u001b[39;00m:\n\u001b[1;32m   <a href='file:///usr/local/lib/python3.8/dist-packages/pandas/core/indexes/base.py?line=3624'>3625</a>\u001b[0m     \u001b[39m# If we have a listlike key, _check_indexing_error will raise\u001b[39;00m\n\u001b[1;32m   <a href='file:///usr/local/lib/python3.8/dist-packages/pandas/core/indexes/base.py?line=3625'>3626</a>\u001b[0m     \u001b[39m#  InvalidIndexError. Otherwise we fall through and re-raise\u001b[39;00m\n\u001b[1;32m   <a href='file:///usr/local/lib/python3.8/dist-packages/pandas/core/indexes/base.py?line=3626'>3627</a>\u001b[0m     \u001b[39m#  the TypeError.\u001b[39;00m\n\u001b[1;32m   <a href='file:///usr/local/lib/python3.8/dist-packages/pandas/core/indexes/base.py?line=3627'>3628</a>\u001b[0m     \u001b[39mself\u001b[39m\u001b[39m.\u001b[39m_check_indexing_error(key)\n",
      "\u001b[0;31mKeyError\u001b[0m: False"
     ]
    }
   ],
   "source": [
    "type6_df = []\n",
    "for index, indice in enumerate(test_indices):\n",
    "    if(predicted[index] == 2 and fitzDF['Unnamed' == indice].fitzpatrick == 6):\n",
    "        type6_df += [fitzDF.iloc[indice]]\n"
   ]
  }
 ],
 "metadata": {
  "interpreter": {
   "hash": "916dbcbb3f70747c44a77c7bcd40155683ae19c65e1c03b4aa3499c5328201f1"
  },
  "kernelspec": {
   "display_name": "Python 3 (ipykernel)",
   "language": "python",
   "name": "python3"
  },
  "language_info": {
   "codemirror_mode": {
    "name": "ipython",
    "version": 3
   },
   "file_extension": ".py",
   "mimetype": "text/x-python",
   "name": "python",
   "nbconvert_exporter": "python",
   "pygments_lexer": "ipython3",
   "version": "3.8.10"
  }
 },
 "nbformat": 4,
 "nbformat_minor": 2
}
